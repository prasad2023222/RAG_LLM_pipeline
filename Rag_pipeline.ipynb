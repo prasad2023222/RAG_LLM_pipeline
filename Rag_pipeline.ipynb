{
  "nbformat": 4,
  "nbformat_minor": 0,
  "metadata": {
    "colab": {
      "provenance": [],
      "toc_visible": true
    },
    "kernelspec": {
      "name": "python3",
      "display_name": "Python 3"
    },
    "language_info": {
      "name": "python"
    }
  },
  "cells": [
    {
      "cell_type": "code",
      "execution_count": 154,
      "metadata": {
        "id": "8Yrdrb67JQR9",
        "colab": {
          "base_uri": "https://localhost:8080/"
        },
        "outputId": "f561f64c-766b-4b2e-8ac0-b2f96a318b47"
      },
      "outputs": [
        {
          "output_type": "stream",
          "name": "stdout",
          "text": [
            "Requirement already satisfied: langchain_community in /usr/local/lib/python3.12/dist-packages (0.3.29)\n",
            "Requirement already satisfied: langchainhub in /usr/local/lib/python3.12/dist-packages (0.1.21)\n",
            "Requirement already satisfied: chromadb in /usr/local/lib/python3.12/dist-packages (1.0.20)\n",
            "Requirement already satisfied: langchain in /usr/local/lib/python3.12/dist-packages (0.3.27)\n",
            "Requirement already satisfied: langchain-openai in /usr/local/lib/python3.12/dist-packages (0.3.32)\n",
            "Requirement already satisfied: langchain-core<2.0.0,>=0.3.75 in /usr/local/lib/python3.12/dist-packages (from langchain_community) (0.3.75)\n",
            "Requirement already satisfied: SQLAlchemy<3,>=1.4 in /usr/local/lib/python3.12/dist-packages (from langchain_community) (2.0.43)\n",
            "Requirement already satisfied: requests<3,>=2.32.5 in /usr/local/lib/python3.12/dist-packages (from langchain_community) (2.32.5)\n",
            "Requirement already satisfied: PyYAML>=5.3 in /usr/local/lib/python3.12/dist-packages (from langchain_community) (6.0.2)\n",
            "Requirement already satisfied: aiohttp<4.0.0,>=3.8.3 in /usr/local/lib/python3.12/dist-packages (from langchain_community) (3.12.15)\n",
            "Requirement already satisfied: tenacity!=8.4.0,<10,>=8.1.0 in /usr/local/lib/python3.12/dist-packages (from langchain_community) (8.5.0)\n",
            "Requirement already satisfied: dataclasses-json<0.7,>=0.6.7 in /usr/local/lib/python3.12/dist-packages (from langchain_community) (0.6.7)\n",
            "Requirement already satisfied: pydantic-settings<3.0.0,>=2.10.1 in /usr/local/lib/python3.12/dist-packages (from langchain_community) (2.10.1)\n",
            "Requirement already satisfied: langsmith>=0.1.125 in /usr/local/lib/python3.12/dist-packages (from langchain_community) (0.4.23)\n",
            "Requirement already satisfied: httpx-sse<1.0.0,>=0.4.0 in /usr/local/lib/python3.12/dist-packages (from langchain_community) (0.4.1)\n",
            "Requirement already satisfied: numpy>=1.26.2 in /usr/local/lib/python3.12/dist-packages (from langchain_community) (2.0.2)\n",
            "Requirement already satisfied: packaging<25,>=23.2 in /usr/local/lib/python3.12/dist-packages (from langchainhub) (24.2)\n",
            "Requirement already satisfied: types-requests<3.0.0.0,>=2.31.0.2 in /usr/local/lib/python3.12/dist-packages (from langchainhub) (2.32.4.20250809)\n",
            "Requirement already satisfied: build>=1.0.3 in /usr/local/lib/python3.12/dist-packages (from chromadb) (1.3.0)\n",
            "Requirement already satisfied: pydantic>=1.9 in /usr/local/lib/python3.12/dist-packages (from chromadb) (2.11.7)\n",
            "Requirement already satisfied: pybase64>=1.4.1 in /usr/local/lib/python3.12/dist-packages (from chromadb) (1.4.2)\n",
            "Requirement already satisfied: uvicorn>=0.18.3 in /usr/local/lib/python3.12/dist-packages (from uvicorn[standard]>=0.18.3->chromadb) (0.35.0)\n",
            "Requirement already satisfied: posthog<6.0.0,>=2.4.0 in /usr/local/lib/python3.12/dist-packages (from chromadb) (5.4.0)\n",
            "Requirement already satisfied: typing-extensions>=4.5.0 in /usr/local/lib/python3.12/dist-packages (from chromadb) (4.15.0)\n",
            "Requirement already satisfied: onnxruntime>=1.14.1 in /usr/local/lib/python3.12/dist-packages (from chromadb) (1.22.1)\n",
            "Requirement already satisfied: opentelemetry-api>=1.2.0 in /usr/local/lib/python3.12/dist-packages (from chromadb) (1.36.0)\n",
            "Requirement already satisfied: opentelemetry-exporter-otlp-proto-grpc>=1.2.0 in /usr/local/lib/python3.12/dist-packages (from chromadb) (1.36.0)\n",
            "Requirement already satisfied: opentelemetry-sdk>=1.2.0 in /usr/local/lib/python3.12/dist-packages (from chromadb) (1.36.0)\n",
            "Requirement already satisfied: tokenizers>=0.13.2 in /usr/local/lib/python3.12/dist-packages (from chromadb) (0.22.0)\n",
            "Requirement already satisfied: pypika>=0.48.9 in /usr/local/lib/python3.12/dist-packages (from chromadb) (0.48.9)\n",
            "Requirement already satisfied: tqdm>=4.65.0 in /usr/local/lib/python3.12/dist-packages (from chromadb) (4.67.1)\n",
            "Requirement already satisfied: overrides>=7.3.1 in /usr/local/lib/python3.12/dist-packages (from chromadb) (7.7.0)\n",
            "Requirement already satisfied: importlib-resources in /usr/local/lib/python3.12/dist-packages (from chromadb) (6.5.2)\n",
            "Requirement already satisfied: grpcio>=1.58.0 in /usr/local/lib/python3.12/dist-packages (from chromadb) (1.74.0)\n",
            "Requirement already satisfied: bcrypt>=4.0.1 in /usr/local/lib/python3.12/dist-packages (from chromadb) (4.3.0)\n",
            "Requirement already satisfied: typer>=0.9.0 in /usr/local/lib/python3.12/dist-packages (from chromadb) (0.17.3)\n",
            "Requirement already satisfied: kubernetes>=28.1.0 in /usr/local/lib/python3.12/dist-packages (from chromadb) (33.1.0)\n",
            "Requirement already satisfied: mmh3>=4.0.1 in /usr/local/lib/python3.12/dist-packages (from chromadb) (5.2.0)\n",
            "Requirement already satisfied: orjson>=3.9.12 in /usr/local/lib/python3.12/dist-packages (from chromadb) (3.11.3)\n",
            "Requirement already satisfied: httpx>=0.27.0 in /usr/local/lib/python3.12/dist-packages (from chromadb) (0.28.1)\n",
            "Requirement already satisfied: rich>=10.11.0 in /usr/local/lib/python3.12/dist-packages (from chromadb) (13.9.4)\n",
            "Requirement already satisfied: jsonschema>=4.19.0 in /usr/local/lib/python3.12/dist-packages (from chromadb) (4.25.1)\n",
            "Requirement already satisfied: langchain-text-splitters<1.0.0,>=0.3.9 in /usr/local/lib/python3.12/dist-packages (from langchain) (0.3.11)\n",
            "Requirement already satisfied: openai<2.0.0,>=1.99.9 in /usr/local/lib/python3.12/dist-packages (from langchain-openai) (1.104.2)\n",
            "Requirement already satisfied: tiktoken<1,>=0.7 in /usr/local/lib/python3.12/dist-packages (from langchain-openai) (0.11.0)\n",
            "Requirement already satisfied: aiohappyeyeballs>=2.5.0 in /usr/local/lib/python3.12/dist-packages (from aiohttp<4.0.0,>=3.8.3->langchain_community) (2.6.1)\n",
            "Requirement already satisfied: aiosignal>=1.4.0 in /usr/local/lib/python3.12/dist-packages (from aiohttp<4.0.0,>=3.8.3->langchain_community) (1.4.0)\n",
            "Requirement already satisfied: attrs>=17.3.0 in /usr/local/lib/python3.12/dist-packages (from aiohttp<4.0.0,>=3.8.3->langchain_community) (25.3.0)\n",
            "Requirement already satisfied: frozenlist>=1.1.1 in /usr/local/lib/python3.12/dist-packages (from aiohttp<4.0.0,>=3.8.3->langchain_community) (1.7.0)\n",
            "Requirement already satisfied: multidict<7.0,>=4.5 in /usr/local/lib/python3.12/dist-packages (from aiohttp<4.0.0,>=3.8.3->langchain_community) (6.6.4)\n",
            "Requirement already satisfied: propcache>=0.2.0 in /usr/local/lib/python3.12/dist-packages (from aiohttp<4.0.0,>=3.8.3->langchain_community) (0.3.2)\n",
            "Requirement already satisfied: yarl<2.0,>=1.17.0 in /usr/local/lib/python3.12/dist-packages (from aiohttp<4.0.0,>=3.8.3->langchain_community) (1.20.1)\n",
            "Requirement already satisfied: pyproject_hooks in /usr/local/lib/python3.12/dist-packages (from build>=1.0.3->chromadb) (1.2.0)\n",
            "Requirement already satisfied: marshmallow<4.0.0,>=3.18.0 in /usr/local/lib/python3.12/dist-packages (from dataclasses-json<0.7,>=0.6.7->langchain_community) (3.26.1)\n",
            "Requirement already satisfied: typing-inspect<1,>=0.4.0 in /usr/local/lib/python3.12/dist-packages (from dataclasses-json<0.7,>=0.6.7->langchain_community) (0.9.0)\n",
            "Requirement already satisfied: anyio in /usr/local/lib/python3.12/dist-packages (from httpx>=0.27.0->chromadb) (4.10.0)\n",
            "Requirement already satisfied: certifi in /usr/local/lib/python3.12/dist-packages (from httpx>=0.27.0->chromadb) (2025.8.3)\n",
            "Requirement already satisfied: httpcore==1.* in /usr/local/lib/python3.12/dist-packages (from httpx>=0.27.0->chromadb) (1.0.9)\n",
            "Requirement already satisfied: idna in /usr/local/lib/python3.12/dist-packages (from httpx>=0.27.0->chromadb) (3.10)\n",
            "Requirement already satisfied: h11>=0.16 in /usr/local/lib/python3.12/dist-packages (from httpcore==1.*->httpx>=0.27.0->chromadb) (0.16.0)\n",
            "Requirement already satisfied: jsonschema-specifications>=2023.03.6 in /usr/local/lib/python3.12/dist-packages (from jsonschema>=4.19.0->chromadb) (2025.4.1)\n",
            "Requirement already satisfied: referencing>=0.28.4 in /usr/local/lib/python3.12/dist-packages (from jsonschema>=4.19.0->chromadb) (0.36.2)\n",
            "Requirement already satisfied: rpds-py>=0.7.1 in /usr/local/lib/python3.12/dist-packages (from jsonschema>=4.19.0->chromadb) (0.27.1)\n",
            "Requirement already satisfied: six>=1.9.0 in /usr/local/lib/python3.12/dist-packages (from kubernetes>=28.1.0->chromadb) (1.17.0)\n",
            "Requirement already satisfied: python-dateutil>=2.5.3 in /usr/local/lib/python3.12/dist-packages (from kubernetes>=28.1.0->chromadb) (2.9.0.post0)\n",
            "Requirement already satisfied: google-auth>=1.0.1 in /usr/local/lib/python3.12/dist-packages (from kubernetes>=28.1.0->chromadb) (2.38.0)\n",
            "Requirement already satisfied: websocket-client!=0.40.0,!=0.41.*,!=0.42.*,>=0.32.0 in /usr/local/lib/python3.12/dist-packages (from kubernetes>=28.1.0->chromadb) (1.8.0)\n",
            "Requirement already satisfied: requests-oauthlib in /usr/local/lib/python3.12/dist-packages (from kubernetes>=28.1.0->chromadb) (2.0.0)\n",
            "Requirement already satisfied: oauthlib>=3.2.2 in /usr/local/lib/python3.12/dist-packages (from kubernetes>=28.1.0->chromadb) (3.3.1)\n",
            "Requirement already satisfied: urllib3>=1.24.2 in /usr/local/lib/python3.12/dist-packages (from kubernetes>=28.1.0->chromadb) (2.5.0)\n",
            "Requirement already satisfied: durationpy>=0.7 in /usr/local/lib/python3.12/dist-packages (from kubernetes>=28.1.0->chromadb) (0.10)\n",
            "Requirement already satisfied: jsonpatch<2.0,>=1.33 in /usr/local/lib/python3.12/dist-packages (from langchain-core<2.0.0,>=0.3.75->langchain_community) (1.33)\n",
            "Requirement already satisfied: requests-toolbelt>=1.0.0 in /usr/local/lib/python3.12/dist-packages (from langsmith>=0.1.125->langchain_community) (1.0.0)\n",
            "Requirement already satisfied: zstandard>=0.23.0 in /usr/local/lib/python3.12/dist-packages (from langsmith>=0.1.125->langchain_community) (0.24.0)\n",
            "Requirement already satisfied: coloredlogs in /usr/local/lib/python3.12/dist-packages (from onnxruntime>=1.14.1->chromadb) (15.0.1)\n",
            "Requirement already satisfied: flatbuffers in /usr/local/lib/python3.12/dist-packages (from onnxruntime>=1.14.1->chromadb) (25.2.10)\n",
            "Requirement already satisfied: protobuf in /usr/local/lib/python3.12/dist-packages (from onnxruntime>=1.14.1->chromadb) (5.29.5)\n",
            "Requirement already satisfied: sympy in /usr/local/lib/python3.12/dist-packages (from onnxruntime>=1.14.1->chromadb) (1.13.3)\n",
            "Requirement already satisfied: distro<2,>=1.7.0 in /usr/local/lib/python3.12/dist-packages (from openai<2.0.0,>=1.99.9->langchain-openai) (1.9.0)\n",
            "Requirement already satisfied: jiter<1,>=0.4.0 in /usr/local/lib/python3.12/dist-packages (from openai<2.0.0,>=1.99.9->langchain-openai) (0.10.0)\n",
            "Requirement already satisfied: sniffio in /usr/local/lib/python3.12/dist-packages (from openai<2.0.0,>=1.99.9->langchain-openai) (1.3.1)\n",
            "Requirement already satisfied: importlib-metadata<8.8.0,>=6.0 in /usr/local/lib/python3.12/dist-packages (from opentelemetry-api>=1.2.0->chromadb) (8.7.0)\n",
            "Requirement already satisfied: googleapis-common-protos~=1.57 in /usr/local/lib/python3.12/dist-packages (from opentelemetry-exporter-otlp-proto-grpc>=1.2.0->chromadb) (1.70.0)\n",
            "Requirement already satisfied: opentelemetry-exporter-otlp-proto-common==1.36.0 in /usr/local/lib/python3.12/dist-packages (from opentelemetry-exporter-otlp-proto-grpc>=1.2.0->chromadb) (1.36.0)\n",
            "Requirement already satisfied: opentelemetry-proto==1.36.0 in /usr/local/lib/python3.12/dist-packages (from opentelemetry-exporter-otlp-proto-grpc>=1.2.0->chromadb) (1.36.0)\n",
            "Requirement already satisfied: opentelemetry-semantic-conventions==0.57b0 in /usr/local/lib/python3.12/dist-packages (from opentelemetry-sdk>=1.2.0->chromadb) (0.57b0)\n",
            "Requirement already satisfied: backoff>=1.10.0 in /usr/local/lib/python3.12/dist-packages (from posthog<6.0.0,>=2.4.0->chromadb) (2.2.1)\n",
            "Requirement already satisfied: annotated-types>=0.6.0 in /usr/local/lib/python3.12/dist-packages (from pydantic>=1.9->chromadb) (0.7.0)\n",
            "Requirement already satisfied: pydantic-core==2.33.2 in /usr/local/lib/python3.12/dist-packages (from pydantic>=1.9->chromadb) (2.33.2)\n",
            "Requirement already satisfied: typing-inspection>=0.4.0 in /usr/local/lib/python3.12/dist-packages (from pydantic>=1.9->chromadb) (0.4.1)\n",
            "Requirement already satisfied: python-dotenv>=0.21.0 in /usr/local/lib/python3.12/dist-packages (from pydantic-settings<3.0.0,>=2.10.1->langchain_community) (1.1.1)\n",
            "Requirement already satisfied: charset_normalizer<4,>=2 in /usr/local/lib/python3.12/dist-packages (from requests<3,>=2.32.5->langchain_community) (3.4.3)\n",
            "Requirement already satisfied: markdown-it-py>=2.2.0 in /usr/local/lib/python3.12/dist-packages (from rich>=10.11.0->chromadb) (4.0.0)\n",
            "Requirement already satisfied: pygments<3.0.0,>=2.13.0 in /usr/local/lib/python3.12/dist-packages (from rich>=10.11.0->chromadb) (2.19.2)\n",
            "Requirement already satisfied: greenlet>=1 in /usr/local/lib/python3.12/dist-packages (from SQLAlchemy<3,>=1.4->langchain_community) (3.2.4)\n",
            "Requirement already satisfied: regex>=2022.1.18 in /usr/local/lib/python3.12/dist-packages (from tiktoken<1,>=0.7->langchain-openai) (2024.11.6)\n",
            "Requirement already satisfied: huggingface-hub<1.0,>=0.16.4 in /usr/local/lib/python3.12/dist-packages (from tokenizers>=0.13.2->chromadb) (0.34.4)\n",
            "Requirement already satisfied: click>=8.0.0 in /usr/local/lib/python3.12/dist-packages (from typer>=0.9.0->chromadb) (8.2.1)\n",
            "Requirement already satisfied: shellingham>=1.3.0 in /usr/local/lib/python3.12/dist-packages (from typer>=0.9.0->chromadb) (1.5.4)\n",
            "Requirement already satisfied: httptools>=0.6.3 in /usr/local/lib/python3.12/dist-packages (from uvicorn[standard]>=0.18.3->chromadb) (0.6.4)\n",
            "Requirement already satisfied: uvloop>=0.15.1 in /usr/local/lib/python3.12/dist-packages (from uvicorn[standard]>=0.18.3->chromadb) (0.21.0)\n",
            "Requirement already satisfied: watchfiles>=0.13 in /usr/local/lib/python3.12/dist-packages (from uvicorn[standard]>=0.18.3->chromadb) (1.1.0)\n",
            "Requirement already satisfied: websockets>=10.4 in /usr/local/lib/python3.12/dist-packages (from uvicorn[standard]>=0.18.3->chromadb) (15.0.1)\n",
            "Requirement already satisfied: cachetools<6.0,>=2.0.0 in /usr/local/lib/python3.12/dist-packages (from google-auth>=1.0.1->kubernetes>=28.1.0->chromadb) (5.5.2)\n",
            "Requirement already satisfied: pyasn1-modules>=0.2.1 in /usr/local/lib/python3.12/dist-packages (from google-auth>=1.0.1->kubernetes>=28.1.0->chromadb) (0.4.2)\n",
            "Requirement already satisfied: rsa<5,>=3.1.4 in /usr/local/lib/python3.12/dist-packages (from google-auth>=1.0.1->kubernetes>=28.1.0->chromadb) (4.9.1)\n",
            "Requirement already satisfied: filelock in /usr/local/lib/python3.12/dist-packages (from huggingface-hub<1.0,>=0.16.4->tokenizers>=0.13.2->chromadb) (3.19.1)\n",
            "Requirement already satisfied: fsspec>=2023.5.0 in /usr/local/lib/python3.12/dist-packages (from huggingface-hub<1.0,>=0.16.4->tokenizers>=0.13.2->chromadb) (2025.3.0)\n",
            "Requirement already satisfied: hf-xet<2.0.0,>=1.1.3 in /usr/local/lib/python3.12/dist-packages (from huggingface-hub<1.0,>=0.16.4->tokenizers>=0.13.2->chromadb) (1.1.9)\n",
            "Requirement already satisfied: zipp>=3.20 in /usr/local/lib/python3.12/dist-packages (from importlib-metadata<8.8.0,>=6.0->opentelemetry-api>=1.2.0->chromadb) (3.23.0)\n",
            "Requirement already satisfied: jsonpointer>=1.9 in /usr/local/lib/python3.12/dist-packages (from jsonpatch<2.0,>=1.33->langchain-core<2.0.0,>=0.3.75->langchain_community) (3.0.0)\n",
            "Requirement already satisfied: mdurl~=0.1 in /usr/local/lib/python3.12/dist-packages (from markdown-it-py>=2.2.0->rich>=10.11.0->chromadb) (0.1.2)\n",
            "Requirement already satisfied: mypy-extensions>=0.3.0 in /usr/local/lib/python3.12/dist-packages (from typing-inspect<1,>=0.4.0->dataclasses-json<0.7,>=0.6.7->langchain_community) (1.1.0)\n",
            "Requirement already satisfied: humanfriendly>=9.1 in /usr/local/lib/python3.12/dist-packages (from coloredlogs->onnxruntime>=1.14.1->chromadb) (10.0)\n",
            "Requirement already satisfied: mpmath<1.4,>=1.1.0 in /usr/local/lib/python3.12/dist-packages (from sympy->onnxruntime>=1.14.1->chromadb) (1.3.0)\n",
            "Requirement already satisfied: pyasn1<0.7.0,>=0.6.1 in /usr/local/lib/python3.12/dist-packages (from pyasn1-modules>=0.2.1->google-auth>=1.0.1->kubernetes>=28.1.0->chromadb) (0.6.1)\n"
          ]
        }
      ],
      "source": [
        "pip install langchain_community langchainhub chromadb  langchain langchain-openai\n"
      ]
    },
    {
      "cell_type": "code",
      "source": [
        "'''from google.colab import userdata\n",
        "import os\n",
        "os.environ['OPENAI-API-KEY']=userdata.get('openaikey')'''"
      ],
      "metadata": {
        "id": "oNLfN8gnLx-y",
        "colab": {
          "base_uri": "https://localhost:8080/",
          "height": 36
        },
        "outputId": "ab56d971-91e5-48c1-fa5a-aef0092c57c7"
      },
      "execution_count": 104,
      "outputs": [
        {
          "output_type": "execute_result",
          "data": {
            "text/plain": [
              "\"from google.colab import userdata\\nimport os\\nos.environ['OPENAI-API-KEY']=userdata.get('openaikey')\""
            ],
            "application/vnd.google.colaboratory.intrinsic+json": {
              "type": "string"
            }
          },
          "metadata": {},
          "execution_count": 104
        }
      ]
    },
    {
      "cell_type": "code",
      "source": [
        "'''from getpass import getpass\n",
        "import os\n",
        "\n",
        "# Prompt to securely paste your API key\n",
        "api_key = getpass(\"Paste your OpenAI API key here: \")\n",
        "os.environ[\"OPENAI_API_KEY\"] = api_key'''\n"
      ],
      "metadata": {
        "colab": {
          "base_uri": "https://localhost:8080/"
        },
        "id": "7J0dMUTgVgKd",
        "outputId": "b71da946-cc0e-4d3e-9200-aa1588565518"
      },
      "execution_count": 105,
      "outputs": [
        {
          "name": "stdout",
          "output_type": "stream",
          "text": [
            "Paste your OpenAI API key here: ··········\n"
          ]
        }
      ]
    },
    {
      "cell_type": "code",
      "source": [
        "import os\n",
        "os.environ[\"USER_AGENT\"] = \"my-colab-RAG PROJECT/1.0\"\n"
      ],
      "metadata": {
        "id": "bq-BIkZ7NzRH"
      },
      "execution_count": 155,
      "outputs": []
    },
    {
      "cell_type": "code",
      "source": [
        "#print(os.environ[\"OPENAI_API_KEY\"])\n"
      ],
      "metadata": {
        "id": "VpOqqACImZdq"
      },
      "execution_count": null,
      "outputs": []
    },
    {
      "cell_type": "code",
      "source": [
        "from langchain_community.document_loaders import WebBaseLoader\n",
        "page_url=WebBaseLoader(web_paths=[\"https://register.educosys.com/new-courses/38-hands-on-generative-ai-batch-2\"])\n",
        "docs=page_url.load()\n",
        "print(docs)"
      ],
      "metadata": {
        "colab": {
          "base_uri": "https://localhost:8080/"
        },
        "id": "E8CpmvWANEeX",
        "outputId": "5bf5c052-2760-488a-a90e-0eff0a3b32a9"
      },
      "execution_count": 156,
      "outputs": [
        {
          "output_type": "stream",
          "name": "stdout",
          "text": [
            "[Document(metadata={'source': 'https://register.educosys.com/new-courses/38-hands-on-generative-ai-batch-2', 'title': 'Keerti Purswani', 'description': '', 'language': 'No language found.'}, page_content=\"Keerti PurswaniSignupLoginMAIN MENU Courses Free ContentSignupLoginHands-On Generative AI - Batch 2OverviewContentDescription7 Weeks Hands-on Generative AI Course\\nStarts on 16th September. Classes every Tue, Wed, Thurs\\n\\nRecordings available for lifetime\\nGet Access to all Upcoming Live Batches of the course\\n\\n\\xa0\\nWeek-wise Curriculum\\nWeek 1: Foundations of Generative AI\\n\\n\\nIntroduction to AI\\n\\n\\nMathematical Foundations for AI\\n\\n\\nProbability, Statistics, and Linear Algebra\\n\\n\\nBasics of Neural Networks\\n\\n\\nGradient Descent and Optimization Basics\\n\\n\\nArchitectures: Feedforward, RNN, and CNN\\n\\n\\nMini Project: Build a Simple Neural Network Using TensorFlow\\n\\n\\nMini Project: Train an Autoencoder on the MNIST Dataset\\n\\n\\nWeek 2: Deep Generative Models\\n\\n\\nDiscriminative and Generative Models\\n\\n\\nGenerative Adversarial Networks (GANs)\\n\\n\\nVariational Autoencoders (VAEs)\\n\\n\\nProbabilistic Data Generation Using VAEs\\n\\n\\nFour Mini Projects using TensorFlow\\n\\n\\nMetrics Visualization using TensorBoard\\n\\n\\nMini Project: Implement a GAN to Generate Handwritten Digits\\n\\n\\nMini Project: Train a VAE to Generate Faces Using the CelebA Dataset\\n\\n\\nWeek 3: Transformers and Large Language Models\\n\\n\\nRNN, LSTM\\n\\n\\nTransformers Architecture\\n\\n\\nAttention Mechanism: Self-Attention and Positional Encoding\\n\\n\\nMajor Project: Code Transformer from Scratch\\n\\n\\nEncoder-Decoder Framework\\n\\n\\nPretraining Objectives: MLM, CLM\\n\\n\\nGPT, BERT\\n\\n\\nMini Project: Sentiment Analysis Using BERT\\n\\n\\nWeek 4: Fine-Tuning, LangChain, LangGraph\\n\\n\\nPretraining and Fine-Tuning\\n\\n\\nLoRA, QLoRA\\n\\n\\nHugging Face\\n\\n\\nFine-Tuning for Tasks Like Summarization, QA\\n\\n\\nLangChain Installation and Basic Setup\\n\\n\\nOverview of LangChain: Prompts, Memory, Chains, Agents\\n\\n\\nLangGraph: Nodes, State, StateGraph, Workflows\\n\\n\\nAI Agents\\n\\n\\nMini Project: Simple Q&A Application Using LangChain\\n\\n\\nWeek 5: Vector Databases, RAG\\n\\n\\nVector Databases\\n\\n\\nChromaDB\\n\\n\\nApplications of RAG\\n\\n\\nBuilding RAG Pipelines with LangChain\\n\\n\\nBuilding Frontend Using Streamlit\\n\\n\\nMajor Project: Build End-to-End Chatbot Like ChatGPT Using Streamlit, LangGraph, ChromaDB, WebSearch Tools, and Memory with LLMs\\n\\n\\nProject: Build an App Using Streamlit for Image Generation, Image Caption Generation, and Video Caption Generation\\n\\n\\nWeek 6: Trending Topics\\n\\n\\nMCP - Model Context Protocol\\n\\n\\nOllama\\n\\n\\nProjects - Fine-Tuning Using Unsloth\\n\\n\\nMixture of Experts\\n\\n\\nChain of Thoughts\\n\\n\\nDeepseek Architecture\\n\\n\\nWeek 7: Projects & Advanced Topics\\n\\n\\nDistillation\\n\\n\\nDiffusion Models\\n\\n\\nVision Transformers\\n\\n\\nMultimodal Models\\n\\n\\nCLIP\\n\\n\\nPrompt Engineering\\n\\n\\n\\xa0\\nFAQs\\nWill there be recordings of the classes?\\r\\nYou will have lifetime access to all the class recordings. You can re-watch, revise, or attend the next batch's live classes (as and when they happen) with lifetime validity.\\nWhat are the prerequisites for the course?\\r\\nBasics of Python, NumPy, and Pandas. Videos are provided for these topics. So, the only prerequisites are an internet connection and a hunger for learning.\\nIs Machine Learning a prerequisite for the course?\\r\\nAll the basic fundamentals required for Generative AI will be taught in the course. You do not need to have any prior knowledge of Machine Learning or AI.\\nHow many projects will we work on? Can I add these to my resume?\\r\\nWe will work on 10 projects that you can add to your resume.\\nIs this course for freshers or experienced people?\\r\\nThis course is for anyone who wants to build projects and understand Generative AI. Years of experience do not matter.\\nHow will you be able to cover so much in 7 weeks?\\r\\nYou can check out testimonials – if you are consistent with the course, we promise that you will surprise yourself. This course will make you very confident in working with trending and future-defining technologies.\\nWhat languages do we use to build the projects?\\r\\nPython.\\nCan I watch the classes only on my phone without a laptop?\\r\\nYes, you can watch the classes on your phone without a laptop. However, it is a hands-on course, so it is better to code as we proceed.\\nWill you provide the code?\\r\\nYes!\\nWhere can I ask my doubts?\\r\\nThe Discord community will always be active!\\nWhat language will the course be taught in?\\r\\nEverything will be taught in English.\\nDo you have a mobile application?\\r\\nWe have a mobile application for both Android and iOS.\\nCan I watch the class recordings or go through notes offline?\\r\\nYou can download the recordings and notes on the mobile application and use them offline at your convenience.\\nDo you provide a certificate for the course?\\r\\nThe certificate of completion is available.\\nCan I get invoices for reimbursement?\\r\\nYes, a proper invoice with GSTIN is available as soon as you enroll in the course.\\nI have more questions. How can I reach out to you?\\r\\nDrop us a mail at support@educosys.com.No records foundLoading...No test series foundPRICE₹11,999 ₹19,99940.00% offChoose Currency:Buy NowQuick LinksTerms & ConditionsPrivacy PolicyRefunds & Cancellation Policy\")]\n"
          ]
        }
      ]
    },
    {
      "cell_type": "code",
      "source": [
        "from langchain.text_splitter import RecursiveCharacterTextSplitter\n",
        "\n",
        "text_splitter=RecursiveCharacterTextSplitter(chunk_size=1000,chunk_overlap=200)\n",
        "splits=text_splitter.split_documents(docs)"
      ],
      "metadata": {
        "id": "P2T1H587NKPL"
      },
      "execution_count": 157,
      "outputs": []
    },
    {
      "cell_type": "code",
      "source": [
        "print(splits[0])\n",
        "print(splits[1])"
      ],
      "metadata": {
        "colab": {
          "base_uri": "https://localhost:8080/"
        },
        "id": "xHjXDlEEOAjZ",
        "outputId": "185224c0-c9ef-4f7c-d6ec-c4044307724a"
      },
      "execution_count": 158,
      "outputs": [
        {
          "output_type": "stream",
          "name": "stdout",
          "text": [
            "page_content='Keerti PurswaniSignupLoginMAIN MENU Courses Free ContentSignupLoginHands-On Generative AI - Batch 2OverviewContentDescription7 Weeks Hands-on Generative AI Course\n",
            "Starts on 16th September. Classes every Tue, Wed, Thurs\n",
            "\n",
            "Recordings available for lifetime\n",
            "Get Access to all Upcoming Live Batches of the course\n",
            "\n",
            " \n",
            "Week-wise Curriculum\n",
            "Week 1: Foundations of Generative AI\n",
            "\n",
            "\n",
            "Introduction to AI\n",
            "\n",
            "\n",
            "Mathematical Foundations for AI\n",
            "\n",
            "\n",
            "Probability, Statistics, and Linear Algebra\n",
            "\n",
            "\n",
            "Basics of Neural Networks\n",
            "\n",
            "\n",
            "Gradient Descent and Optimization Basics\n",
            "\n",
            "\n",
            "Architectures: Feedforward, RNN, and CNN\n",
            "\n",
            "\n",
            "Mini Project: Build a Simple Neural Network Using TensorFlow\n",
            "\n",
            "\n",
            "Mini Project: Train an Autoencoder on the MNIST Dataset\n",
            "\n",
            "\n",
            "Week 2: Deep Generative Models\n",
            "\n",
            "\n",
            "Discriminative and Generative Models\n",
            "\n",
            "\n",
            "Generative Adversarial Networks (GANs)\n",
            "\n",
            "\n",
            "Variational Autoencoders (VAEs)\n",
            "\n",
            "\n",
            "Probabilistic Data Generation Using VAEs\n",
            "\n",
            "\n",
            "Four Mini Projects using TensorFlow\n",
            "\n",
            "\n",
            "Metrics Visualization using TensorBoard' metadata={'source': 'https://register.educosys.com/new-courses/38-hands-on-generative-ai-batch-2', 'title': 'Keerti Purswani', 'description': '', 'language': 'No language found.'}\n",
            "page_content='Generative Adversarial Networks (GANs)\n",
            "\n",
            "\n",
            "Variational Autoencoders (VAEs)\n",
            "\n",
            "\n",
            "Probabilistic Data Generation Using VAEs\n",
            "\n",
            "\n",
            "Four Mini Projects using TensorFlow\n",
            "\n",
            "\n",
            "Metrics Visualization using TensorBoard\n",
            "\n",
            "\n",
            "Mini Project: Implement a GAN to Generate Handwritten Digits\n",
            "\n",
            "\n",
            "Mini Project: Train a VAE to Generate Faces Using the CelebA Dataset\n",
            "\n",
            "\n",
            "Week 3: Transformers and Large Language Models\n",
            "\n",
            "\n",
            "RNN, LSTM\n",
            "\n",
            "\n",
            "Transformers Architecture\n",
            "\n",
            "\n",
            "Attention Mechanism: Self-Attention and Positional Encoding\n",
            "\n",
            "\n",
            "Major Project: Code Transformer from Scratch\n",
            "\n",
            "\n",
            "Encoder-Decoder Framework\n",
            "\n",
            "\n",
            "Pretraining Objectives: MLM, CLM\n",
            "\n",
            "\n",
            "GPT, BERT\n",
            "\n",
            "\n",
            "Mini Project: Sentiment Analysis Using BERT\n",
            "\n",
            "\n",
            "Week 4: Fine-Tuning, LangChain, LangGraph\n",
            "\n",
            "\n",
            "Pretraining and Fine-Tuning\n",
            "\n",
            "\n",
            "LoRA, QLoRA\n",
            "\n",
            "\n",
            "Hugging Face\n",
            "\n",
            "\n",
            "Fine-Tuning for Tasks Like Summarization, QA\n",
            "\n",
            "\n",
            "LangChain Installation and Basic Setup\n",
            "\n",
            "\n",
            "Overview of LangChain: Prompts, Memory, Chains, Agents\n",
            "\n",
            "\n",
            "LangGraph: Nodes, State, StateGraph, Workflows\n",
            "\n",
            "\n",
            "AI Agents' metadata={'source': 'https://register.educosys.com/new-courses/38-hands-on-generative-ai-batch-2', 'title': 'Keerti Purswani', 'description': '', 'language': 'No language found.'}\n"
          ]
        }
      ]
    },
    {
      "cell_type": "code",
      "source": [
        "print(len(splits))"
      ],
      "metadata": {
        "colab": {
          "base_uri": "https://localhost:8080/"
        },
        "id": "ZjZwqii0ODkl",
        "outputId": "b1d7dd68-757f-401a-bac2-33e04eb6145e"
      },
      "execution_count": 159,
      "outputs": [
        {
          "output_type": "stream",
          "name": "stdout",
          "text": [
            "6\n"
          ]
        }
      ]
    },
    {
      "cell_type": "code",
      "source": [
        "from langchain_community.embeddings import HuggingFaceEmbeddings\n",
        "from langchain_community.vectorstores import Chroma\n",
        "#from tensorflow import keras\n",
        "\n",
        "# Use Hugging Face embeddings (free, no OpenAI quota issues)\n",
        "embedding_model = HuggingFaceEmbeddings(model_name=\"sentence-transformers/all-MiniLM-L6-v2\")\n",
        "\n",
        "# Create Chroma vectorstore\n",
        "vectorstore = Chroma.from_documents(\n",
        "    documents=splits,\n",
        "    embedding=embedding_model\n",
        ")\n"
      ],
      "metadata": {
        "id": "muoSx4d3OU4q"
      },
      "execution_count": 160,
      "outputs": []
    },
    {
      "cell_type": "code",
      "source": [
        "print(vectorstore._collection.count())"
      ],
      "metadata": {
        "colab": {
          "base_uri": "https://localhost:8080/"
        },
        "id": "PQ_x3xoxPqK1",
        "outputId": "e99b2ab1-22fb-41b7-c489-40a763ad787a"
      },
      "execution_count": 161,
      "outputs": [
        {
          "output_type": "stream",
          "name": "stdout",
          "text": [
            "36\n"
          ]
        }
      ]
    },
    {
      "cell_type": "code",
      "source": [
        "print(vectorstore._collection.get())"
      ],
      "metadata": {
        "colab": {
          "base_uri": "https://localhost:8080/"
        },
        "id": "tMwTcG9QQLfE",
        "outputId": "024f861c-02ab-4c3e-f648-9a7564c26fc0"
      },
      "execution_count": 162,
      "outputs": [
        {
          "output_type": "stream",
          "name": "stdout",
          "text": [
            "{'ids': ['1f4d29c0-fc93-4842-a2e5-b7ad65ffe1f8', 'f33a2556-3ea3-48b6-a7aa-6156f200961a', '9c219218-8897-4e31-be35-d1b8c1981b94', '83ec46fd-127c-40cb-84ca-6be494a83938', '31c15326-29d0-4971-b9d1-8e1457a5c3b5', '39b0a72f-29d1-4924-82ef-0652437e6d88', 'e7f50a9c-4c23-493b-aa5b-607dfe20764c', 'aa9ba9d1-9b54-4622-ab04-667d30219f9b', '5e83c25c-8afa-4782-980e-53fa5de40690', 'ca1a9efc-12ef-4fc2-8756-9cad2dad9fcc', '4cb1cde5-ed56-4521-8f0d-c72b71972ce0', 'd5ece1d0-7f68-4dca-98bb-56bfe7ef0803', '31d17528-8b52-4e66-87a3-f036529a2935', '8b54c388-aa3e-4bb6-8ae2-1bbd11a14c4d', 'bc959052-658c-45be-819e-a54dda93fe8a', '046e9b12-0086-4d3c-a837-f5f731838f22', '38799e9f-7c33-462d-b97a-6ba0d303595d', '9dd4f95a-f096-4ebf-bee2-f50bc64fef31', '5ef0b2f3-19e0-40ee-a47b-dec467487ab6', '2d032158-f9c1-4d89-b1d4-425719d45e8a', '3a9d439e-0a01-4be9-a0a5-f1e52f40ac52', 'd9e1eada-18a2-4ff7-b2e3-83c6e47b1f0c', 'e576cdd3-13aa-4e49-8054-aef81bbbcdaa', '1ff118f2-185a-4017-b3c8-7302bfb16fa9', 'ac6d4aa2-1943-4918-9a08-32507bbba21b', '6badda72-d6ed-48b5-a6f9-58416fef753e', '4cd339d2-a212-46b0-a153-4a02840cacc6', '96a6699e-59e0-4982-a108-4d34d548b29d', 'c2899784-bdb6-416a-90c7-404085e54cbf', '41b1e7cc-87f2-4c50-9656-43157a7be5bf', '182c8d80-2552-40bb-ad40-797c2e8e1f34', 'dbdfa95c-95f9-433a-ae92-5abe6aa5453c', '59c8c25b-370d-43fe-afb0-a637048a3bed', '42b5b8f6-3eb9-4b68-92a1-9ffbeffc34b1', '4d4ad6f6-b99b-4681-b1e1-0bdf165d114a', '1d978218-07fa-47a2-9083-ae5afaca96db'], 'embeddings': None, 'documents': ['Keerti PurswaniSignupLoginMAIN MENU Courses Free ContentSignupLoginHands-On Generative AI - Batch 2OverviewContentDescription7 Weeks Hands-on Generative AI Course\\nStarts on 16th September. Classes every Tue, Wed, Thurs\\n\\nRecordings available for lifetime\\nGet Access to all Upcoming Live Batches of the course\\n\\n\\xa0\\nWeek-wise Curriculum\\nWeek 1: Foundations of Generative AI\\n\\n\\nIntroduction to AI\\n\\n\\nMathematical Foundations for AI\\n\\n\\nProbability, Statistics, and Linear Algebra\\n\\n\\nBasics of Neural Networks\\n\\n\\nGradient Descent and Optimization Basics\\n\\n\\nArchitectures: Feedforward, RNN, and CNN\\n\\n\\nMini Project: Build a Simple Neural Network Using TensorFlow\\n\\n\\nMini Project: Train an Autoencoder on the MNIST Dataset\\n\\n\\nWeek 2: Deep Generative Models\\n\\n\\nDiscriminative and Generative Models\\n\\n\\nGenerative Adversarial Networks (GANs)\\n\\n\\nVariational Autoencoders (VAEs)\\n\\n\\nProbabilistic Data Generation Using VAEs\\n\\n\\nFour Mini Projects using TensorFlow\\n\\n\\nMetrics Visualization using TensorBoard', 'Generative Adversarial Networks (GANs)\\n\\n\\nVariational Autoencoders (VAEs)\\n\\n\\nProbabilistic Data Generation Using VAEs\\n\\n\\nFour Mini Projects using TensorFlow\\n\\n\\nMetrics Visualization using TensorBoard\\n\\n\\nMini Project: Implement a GAN to Generate Handwritten Digits\\n\\n\\nMini Project: Train a VAE to Generate Faces Using the CelebA Dataset\\n\\n\\nWeek 3: Transformers and Large Language Models\\n\\n\\nRNN, LSTM\\n\\n\\nTransformers Architecture\\n\\n\\nAttention Mechanism: Self-Attention and Positional Encoding\\n\\n\\nMajor Project: Code Transformer from Scratch\\n\\n\\nEncoder-Decoder Framework\\n\\n\\nPretraining Objectives: MLM, CLM\\n\\n\\nGPT, BERT\\n\\n\\nMini Project: Sentiment Analysis Using BERT\\n\\n\\nWeek 4: Fine-Tuning, LangChain, LangGraph\\n\\n\\nPretraining and Fine-Tuning\\n\\n\\nLoRA, QLoRA\\n\\n\\nHugging Face\\n\\n\\nFine-Tuning for Tasks Like Summarization, QA\\n\\n\\nLangChain Installation and Basic Setup\\n\\n\\nOverview of LangChain: Prompts, Memory, Chains, Agents\\n\\n\\nLangGraph: Nodes, State, StateGraph, Workflows\\n\\n\\nAI Agents', 'LangChain Installation and Basic Setup\\n\\n\\nOverview of LangChain: Prompts, Memory, Chains, Agents\\n\\n\\nLangGraph: Nodes, State, StateGraph, Workflows\\n\\n\\nAI Agents\\n\\n\\nMini Project: Simple Q&A Application Using LangChain\\n\\n\\nWeek 5: Vector Databases, RAG\\n\\n\\nVector Databases\\n\\n\\nChromaDB\\n\\n\\nApplications of RAG\\n\\n\\nBuilding RAG Pipelines with LangChain\\n\\n\\nBuilding Frontend Using Streamlit\\n\\n\\nMajor Project: Build End-to-End Chatbot Like ChatGPT Using Streamlit, LangGraph, ChromaDB, WebSearch Tools, and Memory with LLMs\\n\\n\\nProject: Build an App Using Streamlit for Image Generation, Image Caption Generation, and Video Caption Generation\\n\\n\\nWeek 6: Trending Topics\\n\\n\\nMCP - Model Context Protocol\\n\\n\\nOllama\\n\\n\\nProjects - Fine-Tuning Using Unsloth\\n\\n\\nMixture of Experts\\n\\n\\nChain of Thoughts\\n\\n\\nDeepseek Architecture\\n\\n\\nWeek 7: Projects & Advanced Topics\\n\\n\\nDistillation\\n\\n\\nDiffusion Models\\n\\n\\nVision Transformers\\n\\n\\nMultimodal Models\\n\\n\\nCLIP\\n\\n\\nPrompt Engineering', \"FAQs\\nWill there be recordings of the classes?\\r\\nYou will have lifetime access to all the class recordings. You can re-watch, revise, or attend the next batch's live classes (as and when they happen) with lifetime validity.\\nWhat are the prerequisites for the course?\\r\\nBasics of Python, NumPy, and Pandas. Videos are provided for these topics. So, the only prerequisites are an internet connection and a hunger for learning.\\nIs Machine Learning a prerequisite for the course?\\r\\nAll the basic fundamentals required for Generative AI will be taught in the course. You do not need to have any prior knowledge of Machine Learning or AI.\\nHow many projects will we work on? Can I add these to my resume?\\r\\nWe will work on 10 projects that you can add to your resume.\\nIs this course for freshers or experienced people?\\r\\nThis course is for anyone who wants to build projects and understand Generative AI. Years of experience do not matter.\\nHow will you be able to cover so much in 7 weeks?\", 'This course is for anyone who wants to build projects and understand Generative AI. Years of experience do not matter.\\nHow will you be able to cover so much in 7 weeks?\\r\\nYou can check out testimonials – if you are consistent with the course, we promise that you will surprise yourself. This course will make you very confident in working with trending and future-defining technologies.\\nWhat languages do we use to build the projects?\\r\\nPython.\\nCan I watch the classes only on my phone without a laptop?\\r\\nYes, you can watch the classes on your phone without a laptop. However, it is a hands-on course, so it is better to code as we proceed.\\nWill you provide the code?\\r\\nYes!\\nWhere can I ask my doubts?\\r\\nThe Discord community will always be active!\\nWhat language will the course be taught in?\\r\\nEverything will be taught in English.\\nDo you have a mobile application?\\r\\nWe have a mobile application for both Android and iOS.\\nCan I watch the class recordings or go through notes offline?', 'Everything will be taught in English.\\nDo you have a mobile application?\\r\\nWe have a mobile application for both Android and iOS.\\nCan I watch the class recordings or go through notes offline?\\r\\nYou can download the recordings and notes on the mobile application and use them offline at your convenience.\\nDo you provide a certificate for the course?\\r\\nThe certificate of completion is available.\\nCan I get invoices for reimbursement?\\r\\nYes, a proper invoice with GSTIN is available as soon as you enroll in the course.\\nI have more questions. How can I reach out to you?\\r\\nDrop us a mail at support@educosys.com.No records foundLoading...No test series foundPRICE₹11,999 ₹19,99940.00% offChoose Currency:Buy NowQuick LinksTerms & ConditionsPrivacy PolicyRefunds & Cancellation Policy', 'Keerti PurswaniSignupLoginMAIN MENU Courses Free ContentSignupLoginHands-On Generative AI - Batch 2OverviewContentDescription7 Weeks Hands-on Generative AI Course\\nStarts on 16th September. Classes every Tue, Wed, Thurs\\n\\nRecordings available for lifetime\\nGet Access to all Upcoming Live Batches of the course\\n\\n\\xa0\\nWeek-wise Curriculum\\nWeek 1: Foundations of Generative AI\\n\\n\\nIntroduction to AI\\n\\n\\nMathematical Foundations for AI\\n\\n\\nProbability, Statistics, and Linear Algebra\\n\\n\\nBasics of Neural Networks\\n\\n\\nGradient Descent and Optimization Basics\\n\\n\\nArchitectures: Feedforward, RNN, and CNN\\n\\n\\nMini Project: Build a Simple Neural Network Using TensorFlow\\n\\n\\nMini Project: Train an Autoencoder on the MNIST Dataset\\n\\n\\nWeek 2: Deep Generative Models\\n\\n\\nDiscriminative and Generative Models\\n\\n\\nGenerative Adversarial Networks (GANs)\\n\\n\\nVariational Autoencoders (VAEs)\\n\\n\\nProbabilistic Data Generation Using VAEs\\n\\n\\nFour Mini Projects using TensorFlow\\n\\n\\nMetrics Visualization using TensorBoard', 'Generative Adversarial Networks (GANs)\\n\\n\\nVariational Autoencoders (VAEs)\\n\\n\\nProbabilistic Data Generation Using VAEs\\n\\n\\nFour Mini Projects using TensorFlow\\n\\n\\nMetrics Visualization using TensorBoard\\n\\n\\nMini Project: Implement a GAN to Generate Handwritten Digits\\n\\n\\nMini Project: Train a VAE to Generate Faces Using the CelebA Dataset\\n\\n\\nWeek 3: Transformers and Large Language Models\\n\\n\\nRNN, LSTM\\n\\n\\nTransformers Architecture\\n\\n\\nAttention Mechanism: Self-Attention and Positional Encoding\\n\\n\\nMajor Project: Code Transformer from Scratch\\n\\n\\nEncoder-Decoder Framework\\n\\n\\nPretraining Objectives: MLM, CLM\\n\\n\\nGPT, BERT\\n\\n\\nMini Project: Sentiment Analysis Using BERT\\n\\n\\nWeek 4: Fine-Tuning, LangChain, LangGraph\\n\\n\\nPretraining and Fine-Tuning\\n\\n\\nLoRA, QLoRA\\n\\n\\nHugging Face\\n\\n\\nFine-Tuning for Tasks Like Summarization, QA\\n\\n\\nLangChain Installation and Basic Setup\\n\\n\\nOverview of LangChain: Prompts, Memory, Chains, Agents\\n\\n\\nLangGraph: Nodes, State, StateGraph, Workflows\\n\\n\\nAI Agents', 'LangChain Installation and Basic Setup\\n\\n\\nOverview of LangChain: Prompts, Memory, Chains, Agents\\n\\n\\nLangGraph: Nodes, State, StateGraph, Workflows\\n\\n\\nAI Agents\\n\\n\\nMini Project: Simple Q&A Application Using LangChain\\n\\n\\nWeek 5: Vector Databases, RAG\\n\\n\\nVector Databases\\n\\n\\nChromaDB\\n\\n\\nApplications of RAG\\n\\n\\nBuilding RAG Pipelines with LangChain\\n\\n\\nBuilding Frontend Using Streamlit\\n\\n\\nMajor Project: Build End-to-End Chatbot Like ChatGPT Using Streamlit, LangGraph, ChromaDB, WebSearch Tools, and Memory with LLMs\\n\\n\\nProject: Build an App Using Streamlit for Image Generation, Image Caption Generation, and Video Caption Generation\\n\\n\\nWeek 6: Trending Topics\\n\\n\\nMCP - Model Context Protocol\\n\\n\\nOllama\\n\\n\\nProjects - Fine-Tuning Using Unsloth\\n\\n\\nMixture of Experts\\n\\n\\nChain of Thoughts\\n\\n\\nDeepseek Architecture\\n\\n\\nWeek 7: Projects & Advanced Topics\\n\\n\\nDistillation\\n\\n\\nDiffusion Models\\n\\n\\nVision Transformers\\n\\n\\nMultimodal Models\\n\\n\\nCLIP\\n\\n\\nPrompt Engineering', \"FAQs\\nWill there be recordings of the classes?\\r\\nYou will have lifetime access to all the class recordings. You can re-watch, revise, or attend the next batch's live classes (as and when they happen) with lifetime validity.\\nWhat are the prerequisites for the course?\\r\\nBasics of Python, NumPy, and Pandas. Videos are provided for these topics. So, the only prerequisites are an internet connection and a hunger for learning.\\nIs Machine Learning a prerequisite for the course?\\r\\nAll the basic fundamentals required for Generative AI will be taught in the course. You do not need to have any prior knowledge of Machine Learning or AI.\\nHow many projects will we work on? Can I add these to my resume?\\r\\nWe will work on 10 projects that you can add to your resume.\\nIs this course for freshers or experienced people?\\r\\nThis course is for anyone who wants to build projects and understand Generative AI. Years of experience do not matter.\\nHow will you be able to cover so much in 7 weeks?\", 'This course is for anyone who wants to build projects and understand Generative AI. Years of experience do not matter.\\nHow will you be able to cover so much in 7 weeks?\\r\\nYou can check out testimonials – if you are consistent with the course, we promise that you will surprise yourself. This course will make you very confident in working with trending and future-defining technologies.\\nWhat languages do we use to build the projects?\\r\\nPython.\\nCan I watch the classes only on my phone without a laptop?\\r\\nYes, you can watch the classes on your phone without a laptop. However, it is a hands-on course, so it is better to code as we proceed.\\nWill you provide the code?\\r\\nYes!\\nWhere can I ask my doubts?\\r\\nThe Discord community will always be active!\\nWhat language will the course be taught in?\\r\\nEverything will be taught in English.\\nDo you have a mobile application?\\r\\nWe have a mobile application for both Android and iOS.\\nCan I watch the class recordings or go through notes offline?', 'Everything will be taught in English.\\nDo you have a mobile application?\\r\\nWe have a mobile application for both Android and iOS.\\nCan I watch the class recordings or go through notes offline?\\r\\nYou can download the recordings and notes on the mobile application and use them offline at your convenience.\\nDo you provide a certificate for the course?\\r\\nThe certificate of completion is available.\\nCan I get invoices for reimbursement?\\r\\nYes, a proper invoice with GSTIN is available as soon as you enroll in the course.\\nI have more questions. How can I reach out to you?\\r\\nDrop us a mail at support@educosys.com.No records foundLoading...No test series foundPRICE₹11,999 ₹19,99940.00% offChoose Currency:Buy NowQuick LinksTerms & ConditionsPrivacy PolicyRefunds & Cancellation Policy', 'Keerti PurswaniSignupLoginMAIN MENU Courses Free ContentSignupLoginHands-On Generative AI - Batch 2OverviewContentDescription7 Weeks Hands-on Generative AI Course\\nStarts on 16th September. Classes every Tue, Wed, Thurs\\n\\nRecordings available for lifetime\\nGet Access to all Upcoming Live Batches of the course\\n\\n\\xa0\\nWeek-wise Curriculum\\nWeek 1: Foundations of Generative AI\\n\\n\\nIntroduction to AI\\n\\n\\nMathematical Foundations for AI\\n\\n\\nProbability, Statistics, and Linear Algebra\\n\\n\\nBasics of Neural Networks\\n\\n\\nGradient Descent and Optimization Basics\\n\\n\\nArchitectures: Feedforward, RNN, and CNN\\n\\n\\nMini Project: Build a Simple Neural Network Using TensorFlow\\n\\n\\nMini Project: Train an Autoencoder on the MNIST Dataset\\n\\n\\nWeek 2: Deep Generative Models\\n\\n\\nDiscriminative and Generative Models\\n\\n\\nGenerative Adversarial Networks (GANs)\\n\\n\\nVariational Autoencoders (VAEs)\\n\\n\\nProbabilistic Data Generation Using VAEs\\n\\n\\nFour Mini Projects using TensorFlow\\n\\n\\nMetrics Visualization using TensorBoard', 'Generative Adversarial Networks (GANs)\\n\\n\\nVariational Autoencoders (VAEs)\\n\\n\\nProbabilistic Data Generation Using VAEs\\n\\n\\nFour Mini Projects using TensorFlow\\n\\n\\nMetrics Visualization using TensorBoard\\n\\n\\nMini Project: Implement a GAN to Generate Handwritten Digits\\n\\n\\nMini Project: Train a VAE to Generate Faces Using the CelebA Dataset\\n\\n\\nWeek 3: Transformers and Large Language Models\\n\\n\\nRNN, LSTM\\n\\n\\nTransformers Architecture\\n\\n\\nAttention Mechanism: Self-Attention and Positional Encoding\\n\\n\\nMajor Project: Code Transformer from Scratch\\n\\n\\nEncoder-Decoder Framework\\n\\n\\nPretraining Objectives: MLM, CLM\\n\\n\\nGPT, BERT\\n\\n\\nMini Project: Sentiment Analysis Using BERT\\n\\n\\nWeek 4: Fine-Tuning, LangChain, LangGraph\\n\\n\\nPretraining and Fine-Tuning\\n\\n\\nLoRA, QLoRA\\n\\n\\nHugging Face\\n\\n\\nFine-Tuning for Tasks Like Summarization, QA\\n\\n\\nLangChain Installation and Basic Setup\\n\\n\\nOverview of LangChain: Prompts, Memory, Chains, Agents\\n\\n\\nLangGraph: Nodes, State, StateGraph, Workflows\\n\\n\\nAI Agents', 'LangChain Installation and Basic Setup\\n\\n\\nOverview of LangChain: Prompts, Memory, Chains, Agents\\n\\n\\nLangGraph: Nodes, State, StateGraph, Workflows\\n\\n\\nAI Agents\\n\\n\\nMini Project: Simple Q&A Application Using LangChain\\n\\n\\nWeek 5: Vector Databases, RAG\\n\\n\\nVector Databases\\n\\n\\nChromaDB\\n\\n\\nApplications of RAG\\n\\n\\nBuilding RAG Pipelines with LangChain\\n\\n\\nBuilding Frontend Using Streamlit\\n\\n\\nMajor Project: Build End-to-End Chatbot Like ChatGPT Using Streamlit, LangGraph, ChromaDB, WebSearch Tools, and Memory with LLMs\\n\\n\\nProject: Build an App Using Streamlit for Image Generation, Image Caption Generation, and Video Caption Generation\\n\\n\\nWeek 6: Trending Topics\\n\\n\\nMCP - Model Context Protocol\\n\\n\\nOllama\\n\\n\\nProjects - Fine-Tuning Using Unsloth\\n\\n\\nMixture of Experts\\n\\n\\nChain of Thoughts\\n\\n\\nDeepseek Architecture\\n\\n\\nWeek 7: Projects & Advanced Topics\\n\\n\\nDistillation\\n\\n\\nDiffusion Models\\n\\n\\nVision Transformers\\n\\n\\nMultimodal Models\\n\\n\\nCLIP\\n\\n\\nPrompt Engineering', \"FAQs\\nWill there be recordings of the classes?\\r\\nYou will have lifetime access to all the class recordings. You can re-watch, revise, or attend the next batch's live classes (as and when they happen) with lifetime validity.\\nWhat are the prerequisites for the course?\\r\\nBasics of Python, NumPy, and Pandas. Videos are provided for these topics. So, the only prerequisites are an internet connection and a hunger for learning.\\nIs Machine Learning a prerequisite for the course?\\r\\nAll the basic fundamentals required for Generative AI will be taught in the course. You do not need to have any prior knowledge of Machine Learning or AI.\\nHow many projects will we work on? Can I add these to my resume?\\r\\nWe will work on 10 projects that you can add to your resume.\\nIs this course for freshers or experienced people?\\r\\nThis course is for anyone who wants to build projects and understand Generative AI. Years of experience do not matter.\\nHow will you be able to cover so much in 7 weeks?\", 'This course is for anyone who wants to build projects and understand Generative AI. Years of experience do not matter.\\nHow will you be able to cover so much in 7 weeks?\\r\\nYou can check out testimonials – if you are consistent with the course, we promise that you will surprise yourself. This course will make you very confident in working with trending and future-defining technologies.\\nWhat languages do we use to build the projects?\\r\\nPython.\\nCan I watch the classes only on my phone without a laptop?\\r\\nYes, you can watch the classes on your phone without a laptop. However, it is a hands-on course, so it is better to code as we proceed.\\nWill you provide the code?\\r\\nYes!\\nWhere can I ask my doubts?\\r\\nThe Discord community will always be active!\\nWhat language will the course be taught in?\\r\\nEverything will be taught in English.\\nDo you have a mobile application?\\r\\nWe have a mobile application for both Android and iOS.\\nCan I watch the class recordings or go through notes offline?', 'Everything will be taught in English.\\nDo you have a mobile application?\\r\\nWe have a mobile application for both Android and iOS.\\nCan I watch the class recordings or go through notes offline?\\r\\nYou can download the recordings and notes on the mobile application and use them offline at your convenience.\\nDo you provide a certificate for the course?\\r\\nThe certificate of completion is available.\\nCan I get invoices for reimbursement?\\r\\nYes, a proper invoice with GSTIN is available as soon as you enroll in the course.\\nI have more questions. How can I reach out to you?\\r\\nDrop us a mail at support@educosys.com.No records foundLoading...No test series foundPRICE₹11,999 ₹19,99940.00% offChoose Currency:Buy NowQuick LinksTerms & ConditionsPrivacy PolicyRefunds & Cancellation Policy', 'Keerti PurswaniSignupLoginMAIN MENU Courses Free ContentSignupLoginHands-On Generative AI - Batch 2OverviewContentDescription7 Weeks Hands-on Generative AI Course\\nStarts on 16th September. Classes every Tue, Wed, Thurs\\n\\nRecordings available for lifetime\\nGet Access to all Upcoming Live Batches of the course\\n\\n\\xa0\\nWeek-wise Curriculum\\nWeek 1: Foundations of Generative AI\\n\\n\\nIntroduction to AI\\n\\n\\nMathematical Foundations for AI\\n\\n\\nProbability, Statistics, and Linear Algebra\\n\\n\\nBasics of Neural Networks\\n\\n\\nGradient Descent and Optimization Basics\\n\\n\\nArchitectures: Feedforward, RNN, and CNN\\n\\n\\nMini Project: Build a Simple Neural Network Using TensorFlow\\n\\n\\nMini Project: Train an Autoencoder on the MNIST Dataset\\n\\n\\nWeek 2: Deep Generative Models\\n\\n\\nDiscriminative and Generative Models\\n\\n\\nGenerative Adversarial Networks (GANs)\\n\\n\\nVariational Autoencoders (VAEs)\\n\\n\\nProbabilistic Data Generation Using VAEs\\n\\n\\nFour Mini Projects using TensorFlow\\n\\n\\nMetrics Visualization using TensorBoard', 'Generative Adversarial Networks (GANs)\\n\\n\\nVariational Autoencoders (VAEs)\\n\\n\\nProbabilistic Data Generation Using VAEs\\n\\n\\nFour Mini Projects using TensorFlow\\n\\n\\nMetrics Visualization using TensorBoard\\n\\n\\nMini Project: Implement a GAN to Generate Handwritten Digits\\n\\n\\nMini Project: Train a VAE to Generate Faces Using the CelebA Dataset\\n\\n\\nWeek 3: Transformers and Large Language Models\\n\\n\\nRNN, LSTM\\n\\n\\nTransformers Architecture\\n\\n\\nAttention Mechanism: Self-Attention and Positional Encoding\\n\\n\\nMajor Project: Code Transformer from Scratch\\n\\n\\nEncoder-Decoder Framework\\n\\n\\nPretraining Objectives: MLM, CLM\\n\\n\\nGPT, BERT\\n\\n\\nMini Project: Sentiment Analysis Using BERT\\n\\n\\nWeek 4: Fine-Tuning, LangChain, LangGraph\\n\\n\\nPretraining and Fine-Tuning\\n\\n\\nLoRA, QLoRA\\n\\n\\nHugging Face\\n\\n\\nFine-Tuning for Tasks Like Summarization, QA\\n\\n\\nLangChain Installation and Basic Setup\\n\\n\\nOverview of LangChain: Prompts, Memory, Chains, Agents\\n\\n\\nLangGraph: Nodes, State, StateGraph, Workflows\\n\\n\\nAI Agents', 'LangChain Installation and Basic Setup\\n\\n\\nOverview of LangChain: Prompts, Memory, Chains, Agents\\n\\n\\nLangGraph: Nodes, State, StateGraph, Workflows\\n\\n\\nAI Agents\\n\\n\\nMini Project: Simple Q&A Application Using LangChain\\n\\n\\nWeek 5: Vector Databases, RAG\\n\\n\\nVector Databases\\n\\n\\nChromaDB\\n\\n\\nApplications of RAG\\n\\n\\nBuilding RAG Pipelines with LangChain\\n\\n\\nBuilding Frontend Using Streamlit\\n\\n\\nMajor Project: Build End-to-End Chatbot Like ChatGPT Using Streamlit, LangGraph, ChromaDB, WebSearch Tools, and Memory with LLMs\\n\\n\\nProject: Build an App Using Streamlit for Image Generation, Image Caption Generation, and Video Caption Generation\\n\\n\\nWeek 6: Trending Topics\\n\\n\\nMCP - Model Context Protocol\\n\\n\\nOllama\\n\\n\\nProjects - Fine-Tuning Using Unsloth\\n\\n\\nMixture of Experts\\n\\n\\nChain of Thoughts\\n\\n\\nDeepseek Architecture\\n\\n\\nWeek 7: Projects & Advanced Topics\\n\\n\\nDistillation\\n\\n\\nDiffusion Models\\n\\n\\nVision Transformers\\n\\n\\nMultimodal Models\\n\\n\\nCLIP\\n\\n\\nPrompt Engineering', \"FAQs\\nWill there be recordings of the classes?\\r\\nYou will have lifetime access to all the class recordings. You can re-watch, revise, or attend the next batch's live classes (as and when they happen) with lifetime validity.\\nWhat are the prerequisites for the course?\\r\\nBasics of Python, NumPy, and Pandas. Videos are provided for these topics. So, the only prerequisites are an internet connection and a hunger for learning.\\nIs Machine Learning a prerequisite for the course?\\r\\nAll the basic fundamentals required for Generative AI will be taught in the course. You do not need to have any prior knowledge of Machine Learning or AI.\\nHow many projects will we work on? Can I add these to my resume?\\r\\nWe will work on 10 projects that you can add to your resume.\\nIs this course for freshers or experienced people?\\r\\nThis course is for anyone who wants to build projects and understand Generative AI. Years of experience do not matter.\\nHow will you be able to cover so much in 7 weeks?\", 'This course is for anyone who wants to build projects and understand Generative AI. Years of experience do not matter.\\nHow will you be able to cover so much in 7 weeks?\\r\\nYou can check out testimonials – if you are consistent with the course, we promise that you will surprise yourself. This course will make you very confident in working with trending and future-defining technologies.\\nWhat languages do we use to build the projects?\\r\\nPython.\\nCan I watch the classes only on my phone without a laptop?\\r\\nYes, you can watch the classes on your phone without a laptop. However, it is a hands-on course, so it is better to code as we proceed.\\nWill you provide the code?\\r\\nYes!\\nWhere can I ask my doubts?\\r\\nThe Discord community will always be active!\\nWhat language will the course be taught in?\\r\\nEverything will be taught in English.\\nDo you have a mobile application?\\r\\nWe have a mobile application for both Android and iOS.\\nCan I watch the class recordings or go through notes offline?', 'Everything will be taught in English.\\nDo you have a mobile application?\\r\\nWe have a mobile application for both Android and iOS.\\nCan I watch the class recordings or go through notes offline?\\r\\nYou can download the recordings and notes on the mobile application and use them offline at your convenience.\\nDo you provide a certificate for the course?\\r\\nThe certificate of completion is available.\\nCan I get invoices for reimbursement?\\r\\nYes, a proper invoice with GSTIN is available as soon as you enroll in the course.\\nI have more questions. How can I reach out to you?\\r\\nDrop us a mail at support@educosys.com.No records foundLoading...No test series foundPRICE₹11,999 ₹19,99940.00% offChoose Currency:Buy NowQuick LinksTerms & ConditionsPrivacy PolicyRefunds & Cancellation Policy', 'Keerti PurswaniSignupLoginMAIN MENU Courses Free ContentSignupLoginHands-On Generative AI - Batch 2OverviewContentDescription7 Weeks Hands-on Generative AI Course\\nStarts on 16th September. Classes every Tue, Wed, Thurs\\n\\nRecordings available for lifetime\\nGet Access to all Upcoming Live Batches of the course\\n\\n\\xa0\\nWeek-wise Curriculum\\nWeek 1: Foundations of Generative AI\\n\\n\\nIntroduction to AI\\n\\n\\nMathematical Foundations for AI\\n\\n\\nProbability, Statistics, and Linear Algebra\\n\\n\\nBasics of Neural Networks\\n\\n\\nGradient Descent and Optimization Basics\\n\\n\\nArchitectures: Feedforward, RNN, and CNN\\n\\n\\nMini Project: Build a Simple Neural Network Using TensorFlow\\n\\n\\nMini Project: Train an Autoencoder on the MNIST Dataset\\n\\n\\nWeek 2: Deep Generative Models\\n\\n\\nDiscriminative and Generative Models\\n\\n\\nGenerative Adversarial Networks (GANs)\\n\\n\\nVariational Autoencoders (VAEs)\\n\\n\\nProbabilistic Data Generation Using VAEs\\n\\n\\nFour Mini Projects using TensorFlow\\n\\n\\nMetrics Visualization using TensorBoard', 'Generative Adversarial Networks (GANs)\\n\\n\\nVariational Autoencoders (VAEs)\\n\\n\\nProbabilistic Data Generation Using VAEs\\n\\n\\nFour Mini Projects using TensorFlow\\n\\n\\nMetrics Visualization using TensorBoard\\n\\n\\nMini Project: Implement a GAN to Generate Handwritten Digits\\n\\n\\nMini Project: Train a VAE to Generate Faces Using the CelebA Dataset\\n\\n\\nWeek 3: Transformers and Large Language Models\\n\\n\\nRNN, LSTM\\n\\n\\nTransformers Architecture\\n\\n\\nAttention Mechanism: Self-Attention and Positional Encoding\\n\\n\\nMajor Project: Code Transformer from Scratch\\n\\n\\nEncoder-Decoder Framework\\n\\n\\nPretraining Objectives: MLM, CLM\\n\\n\\nGPT, BERT\\n\\n\\nMini Project: Sentiment Analysis Using BERT\\n\\n\\nWeek 4: Fine-Tuning, LangChain, LangGraph\\n\\n\\nPretraining and Fine-Tuning\\n\\n\\nLoRA, QLoRA\\n\\n\\nHugging Face\\n\\n\\nFine-Tuning for Tasks Like Summarization, QA\\n\\n\\nLangChain Installation and Basic Setup\\n\\n\\nOverview of LangChain: Prompts, Memory, Chains, Agents\\n\\n\\nLangGraph: Nodes, State, StateGraph, Workflows\\n\\n\\nAI Agents', 'LangChain Installation and Basic Setup\\n\\n\\nOverview of LangChain: Prompts, Memory, Chains, Agents\\n\\n\\nLangGraph: Nodes, State, StateGraph, Workflows\\n\\n\\nAI Agents\\n\\n\\nMini Project: Simple Q&A Application Using LangChain\\n\\n\\nWeek 5: Vector Databases, RAG\\n\\n\\nVector Databases\\n\\n\\nChromaDB\\n\\n\\nApplications of RAG\\n\\n\\nBuilding RAG Pipelines with LangChain\\n\\n\\nBuilding Frontend Using Streamlit\\n\\n\\nMajor Project: Build End-to-End Chatbot Like ChatGPT Using Streamlit, LangGraph, ChromaDB, WebSearch Tools, and Memory with LLMs\\n\\n\\nProject: Build an App Using Streamlit for Image Generation, Image Caption Generation, and Video Caption Generation\\n\\n\\nWeek 6: Trending Topics\\n\\n\\nMCP - Model Context Protocol\\n\\n\\nOllama\\n\\n\\nProjects - Fine-Tuning Using Unsloth\\n\\n\\nMixture of Experts\\n\\n\\nChain of Thoughts\\n\\n\\nDeepseek Architecture\\n\\n\\nWeek 7: Projects & Advanced Topics\\n\\n\\nDistillation\\n\\n\\nDiffusion Models\\n\\n\\nVision Transformers\\n\\n\\nMultimodal Models\\n\\n\\nCLIP\\n\\n\\nPrompt Engineering', \"FAQs\\nWill there be recordings of the classes?\\r\\nYou will have lifetime access to all the class recordings. You can re-watch, revise, or attend the next batch's live classes (as and when they happen) with lifetime validity.\\nWhat are the prerequisites for the course?\\r\\nBasics of Python, NumPy, and Pandas. Videos are provided for these topics. So, the only prerequisites are an internet connection and a hunger for learning.\\nIs Machine Learning a prerequisite for the course?\\r\\nAll the basic fundamentals required for Generative AI will be taught in the course. You do not need to have any prior knowledge of Machine Learning or AI.\\nHow many projects will we work on? Can I add these to my resume?\\r\\nWe will work on 10 projects that you can add to your resume.\\nIs this course for freshers or experienced people?\\r\\nThis course is for anyone who wants to build projects and understand Generative AI. Years of experience do not matter.\\nHow will you be able to cover so much in 7 weeks?\", 'This course is for anyone who wants to build projects and understand Generative AI. Years of experience do not matter.\\nHow will you be able to cover so much in 7 weeks?\\r\\nYou can check out testimonials – if you are consistent with the course, we promise that you will surprise yourself. This course will make you very confident in working with trending and future-defining technologies.\\nWhat languages do we use to build the projects?\\r\\nPython.\\nCan I watch the classes only on my phone without a laptop?\\r\\nYes, you can watch the classes on your phone without a laptop. However, it is a hands-on course, so it is better to code as we proceed.\\nWill you provide the code?\\r\\nYes!\\nWhere can I ask my doubts?\\r\\nThe Discord community will always be active!\\nWhat language will the course be taught in?\\r\\nEverything will be taught in English.\\nDo you have a mobile application?\\r\\nWe have a mobile application for both Android and iOS.\\nCan I watch the class recordings or go through notes offline?', 'Everything will be taught in English.\\nDo you have a mobile application?\\r\\nWe have a mobile application for both Android and iOS.\\nCan I watch the class recordings or go through notes offline?\\r\\nYou can download the recordings and notes on the mobile application and use them offline at your convenience.\\nDo you provide a certificate for the course?\\r\\nThe certificate of completion is available.\\nCan I get invoices for reimbursement?\\r\\nYes, a proper invoice with GSTIN is available as soon as you enroll in the course.\\nI have more questions. How can I reach out to you?\\r\\nDrop us a mail at support@educosys.com.No records foundLoading...No test series foundPRICE₹11,999 ₹19,99940.00% offChoose Currency:Buy NowQuick LinksTerms & ConditionsPrivacy PolicyRefunds & Cancellation Policy', 'Keerti PurswaniSignupLoginMAIN MENU Courses Free ContentSignupLoginHands-On Generative AI - Batch 2OverviewContentDescription7 Weeks Hands-on Generative AI Course\\nStarts on 16th September. Classes every Tue, Wed, Thurs\\n\\nRecordings available for lifetime\\nGet Access to all Upcoming Live Batches of the course\\n\\n\\xa0\\nWeek-wise Curriculum\\nWeek 1: Foundations of Generative AI\\n\\n\\nIntroduction to AI\\n\\n\\nMathematical Foundations for AI\\n\\n\\nProbability, Statistics, and Linear Algebra\\n\\n\\nBasics of Neural Networks\\n\\n\\nGradient Descent and Optimization Basics\\n\\n\\nArchitectures: Feedforward, RNN, and CNN\\n\\n\\nMini Project: Build a Simple Neural Network Using TensorFlow\\n\\n\\nMini Project: Train an Autoencoder on the MNIST Dataset\\n\\n\\nWeek 2: Deep Generative Models\\n\\n\\nDiscriminative and Generative Models\\n\\n\\nGenerative Adversarial Networks (GANs)\\n\\n\\nVariational Autoencoders (VAEs)\\n\\n\\nProbabilistic Data Generation Using VAEs\\n\\n\\nFour Mini Projects using TensorFlow\\n\\n\\nMetrics Visualization using TensorBoard', 'Generative Adversarial Networks (GANs)\\n\\n\\nVariational Autoencoders (VAEs)\\n\\n\\nProbabilistic Data Generation Using VAEs\\n\\n\\nFour Mini Projects using TensorFlow\\n\\n\\nMetrics Visualization using TensorBoard\\n\\n\\nMini Project: Implement a GAN to Generate Handwritten Digits\\n\\n\\nMini Project: Train a VAE to Generate Faces Using the CelebA Dataset\\n\\n\\nWeek 3: Transformers and Large Language Models\\n\\n\\nRNN, LSTM\\n\\n\\nTransformers Architecture\\n\\n\\nAttention Mechanism: Self-Attention and Positional Encoding\\n\\n\\nMajor Project: Code Transformer from Scratch\\n\\n\\nEncoder-Decoder Framework\\n\\n\\nPretraining Objectives: MLM, CLM\\n\\n\\nGPT, BERT\\n\\n\\nMini Project: Sentiment Analysis Using BERT\\n\\n\\nWeek 4: Fine-Tuning, LangChain, LangGraph\\n\\n\\nPretraining and Fine-Tuning\\n\\n\\nLoRA, QLoRA\\n\\n\\nHugging Face\\n\\n\\nFine-Tuning for Tasks Like Summarization, QA\\n\\n\\nLangChain Installation and Basic Setup\\n\\n\\nOverview of LangChain: Prompts, Memory, Chains, Agents\\n\\n\\nLangGraph: Nodes, State, StateGraph, Workflows\\n\\n\\nAI Agents', 'LangChain Installation and Basic Setup\\n\\n\\nOverview of LangChain: Prompts, Memory, Chains, Agents\\n\\n\\nLangGraph: Nodes, State, StateGraph, Workflows\\n\\n\\nAI Agents\\n\\n\\nMini Project: Simple Q&A Application Using LangChain\\n\\n\\nWeek 5: Vector Databases, RAG\\n\\n\\nVector Databases\\n\\n\\nChromaDB\\n\\n\\nApplications of RAG\\n\\n\\nBuilding RAG Pipelines with LangChain\\n\\n\\nBuilding Frontend Using Streamlit\\n\\n\\nMajor Project: Build End-to-End Chatbot Like ChatGPT Using Streamlit, LangGraph, ChromaDB, WebSearch Tools, and Memory with LLMs\\n\\n\\nProject: Build an App Using Streamlit for Image Generation, Image Caption Generation, and Video Caption Generation\\n\\n\\nWeek 6: Trending Topics\\n\\n\\nMCP - Model Context Protocol\\n\\n\\nOllama\\n\\n\\nProjects - Fine-Tuning Using Unsloth\\n\\n\\nMixture of Experts\\n\\n\\nChain of Thoughts\\n\\n\\nDeepseek Architecture\\n\\n\\nWeek 7: Projects & Advanced Topics\\n\\n\\nDistillation\\n\\n\\nDiffusion Models\\n\\n\\nVision Transformers\\n\\n\\nMultimodal Models\\n\\n\\nCLIP\\n\\n\\nPrompt Engineering', \"FAQs\\nWill there be recordings of the classes?\\r\\nYou will have lifetime access to all the class recordings. You can re-watch, revise, or attend the next batch's live classes (as and when they happen) with lifetime validity.\\nWhat are the prerequisites for the course?\\r\\nBasics of Python, NumPy, and Pandas. Videos are provided for these topics. So, the only prerequisites are an internet connection and a hunger for learning.\\nIs Machine Learning a prerequisite for the course?\\r\\nAll the basic fundamentals required for Generative AI will be taught in the course. You do not need to have any prior knowledge of Machine Learning or AI.\\nHow many projects will we work on? Can I add these to my resume?\\r\\nWe will work on 10 projects that you can add to your resume.\\nIs this course for freshers or experienced people?\\r\\nThis course is for anyone who wants to build projects and understand Generative AI. Years of experience do not matter.\\nHow will you be able to cover so much in 7 weeks?\", 'This course is for anyone who wants to build projects and understand Generative AI. Years of experience do not matter.\\nHow will you be able to cover so much in 7 weeks?\\r\\nYou can check out testimonials – if you are consistent with the course, we promise that you will surprise yourself. This course will make you very confident in working with trending and future-defining technologies.\\nWhat languages do we use to build the projects?\\r\\nPython.\\nCan I watch the classes only on my phone without a laptop?\\r\\nYes, you can watch the classes on your phone without a laptop. However, it is a hands-on course, so it is better to code as we proceed.\\nWill you provide the code?\\r\\nYes!\\nWhere can I ask my doubts?\\r\\nThe Discord community will always be active!\\nWhat language will the course be taught in?\\r\\nEverything will be taught in English.\\nDo you have a mobile application?\\r\\nWe have a mobile application for both Android and iOS.\\nCan I watch the class recordings or go through notes offline?', 'Everything will be taught in English.\\nDo you have a mobile application?\\r\\nWe have a mobile application for both Android and iOS.\\nCan I watch the class recordings or go through notes offline?\\r\\nYou can download the recordings and notes on the mobile application and use them offline at your convenience.\\nDo you provide a certificate for the course?\\r\\nThe certificate of completion is available.\\nCan I get invoices for reimbursement?\\r\\nYes, a proper invoice with GSTIN is available as soon as you enroll in the course.\\nI have more questions. How can I reach out to you?\\r\\nDrop us a mail at support@educosys.com.No records foundLoading...No test series foundPRICE₹11,999 ₹19,99940.00% offChoose Currency:Buy NowQuick LinksTerms & ConditionsPrivacy PolicyRefunds & Cancellation Policy'], 'uris': None, 'included': ['metadatas', 'documents'], 'data': None, 'metadatas': [{'language': 'No language found.', 'title': 'Keerti Purswani', 'description': '', 'source': 'https://register.educosys.com/new-courses/38-hands-on-generative-ai-batch-2'}, {'description': '', 'source': 'https://register.educosys.com/new-courses/38-hands-on-generative-ai-batch-2', 'language': 'No language found.', 'title': 'Keerti Purswani'}, {'description': '', 'language': 'No language found.', 'title': 'Keerti Purswani', 'source': 'https://register.educosys.com/new-courses/38-hands-on-generative-ai-batch-2'}, {'description': '', 'title': 'Keerti Purswani', 'language': 'No language found.', 'source': 'https://register.educosys.com/new-courses/38-hands-on-generative-ai-batch-2'}, {'description': '', 'language': 'No language found.', 'title': 'Keerti Purswani', 'source': 'https://register.educosys.com/new-courses/38-hands-on-generative-ai-batch-2'}, {'description': '', 'title': 'Keerti Purswani', 'language': 'No language found.', 'source': 'https://register.educosys.com/new-courses/38-hands-on-generative-ai-batch-2'}, {'language': 'No language found.', 'source': 'https://register.educosys.com/new-courses/38-hands-on-generative-ai-batch-2', 'title': 'Keerti Purswani', 'description': ''}, {'source': 'https://register.educosys.com/new-courses/38-hands-on-generative-ai-batch-2', 'language': 'No language found.', 'title': 'Keerti Purswani', 'description': ''}, {'description': '', 'language': 'No language found.', 'title': 'Keerti Purswani', 'source': 'https://register.educosys.com/new-courses/38-hands-on-generative-ai-batch-2'}, {'title': 'Keerti Purswani', 'source': 'https://register.educosys.com/new-courses/38-hands-on-generative-ai-batch-2', 'description': '', 'language': 'No language found.'}, {'description': '', 'source': 'https://register.educosys.com/new-courses/38-hands-on-generative-ai-batch-2', 'language': 'No language found.', 'title': 'Keerti Purswani'}, {'title': 'Keerti Purswani', 'description': '', 'language': 'No language found.', 'source': 'https://register.educosys.com/new-courses/38-hands-on-generative-ai-batch-2'}, {'title': 'Keerti Purswani', 'source': 'https://register.educosys.com/new-courses/38-hands-on-generative-ai-batch-2', 'language': 'No language found.', 'description': ''}, {'source': 'https://register.educosys.com/new-courses/38-hands-on-generative-ai-batch-2', 'title': 'Keerti Purswani', 'description': '', 'language': 'No language found.'}, {'language': 'No language found.', 'title': 'Keerti Purswani', 'description': '', 'source': 'https://register.educosys.com/new-courses/38-hands-on-generative-ai-batch-2'}, {'title': 'Keerti Purswani', 'description': '', 'language': 'No language found.', 'source': 'https://register.educosys.com/new-courses/38-hands-on-generative-ai-batch-2'}, {'source': 'https://register.educosys.com/new-courses/38-hands-on-generative-ai-batch-2', 'language': 'No language found.', 'description': '', 'title': 'Keerti Purswani'}, {'language': 'No language found.', 'title': 'Keerti Purswani', 'description': '', 'source': 'https://register.educosys.com/new-courses/38-hands-on-generative-ai-batch-2'}, {'language': 'No language found.', 'title': 'Keerti Purswani', 'source': 'https://register.educosys.com/new-courses/38-hands-on-generative-ai-batch-2', 'description': ''}, {'language': 'No language found.', 'title': 'Keerti Purswani', 'source': 'https://register.educosys.com/new-courses/38-hands-on-generative-ai-batch-2', 'description': ''}, {'description': '', 'title': 'Keerti Purswani', 'language': 'No language found.', 'source': 'https://register.educosys.com/new-courses/38-hands-on-generative-ai-batch-2'}, {'description': '', 'source': 'https://register.educosys.com/new-courses/38-hands-on-generative-ai-batch-2', 'language': 'No language found.', 'title': 'Keerti Purswani'}, {'title': 'Keerti Purswani', 'language': 'No language found.', 'source': 'https://register.educosys.com/new-courses/38-hands-on-generative-ai-batch-2', 'description': ''}, {'description': '', 'source': 'https://register.educosys.com/new-courses/38-hands-on-generative-ai-batch-2', 'title': 'Keerti Purswani', 'language': 'No language found.'}, {'description': '', 'source': 'https://register.educosys.com/new-courses/38-hands-on-generative-ai-batch-2', 'title': 'Keerti Purswani', 'language': 'No language found.'}, {'title': 'Keerti Purswani', 'description': '', 'language': 'No language found.', 'source': 'https://register.educosys.com/new-courses/38-hands-on-generative-ai-batch-2'}, {'language': 'No language found.', 'source': 'https://register.educosys.com/new-courses/38-hands-on-generative-ai-batch-2', 'description': '', 'title': 'Keerti Purswani'}, {'source': 'https://register.educosys.com/new-courses/38-hands-on-generative-ai-batch-2', 'title': 'Keerti Purswani', 'language': 'No language found.', 'description': ''}, {'description': '', 'title': 'Keerti Purswani', 'language': 'No language found.', 'source': 'https://register.educosys.com/new-courses/38-hands-on-generative-ai-batch-2'}, {'description': '', 'source': 'https://register.educosys.com/new-courses/38-hands-on-generative-ai-batch-2', 'language': 'No language found.', 'title': 'Keerti Purswani'}, {'source': 'https://register.educosys.com/new-courses/38-hands-on-generative-ai-batch-2', 'language': 'No language found.', 'title': 'Keerti Purswani', 'description': ''}, {'language': 'No language found.', 'title': 'Keerti Purswani', 'source': 'https://register.educosys.com/new-courses/38-hands-on-generative-ai-batch-2', 'description': ''}, {'title': 'Keerti Purswani', 'source': 'https://register.educosys.com/new-courses/38-hands-on-generative-ai-batch-2', 'description': '', 'language': 'No language found.'}, {'title': 'Keerti Purswani', 'description': '', 'language': 'No language found.', 'source': 'https://register.educosys.com/new-courses/38-hands-on-generative-ai-batch-2'}, {'description': '', 'title': 'Keerti Purswani', 'language': 'No language found.', 'source': 'https://register.educosys.com/new-courses/38-hands-on-generative-ai-batch-2'}, {'title': 'Keerti Purswani', 'source': 'https://register.educosys.com/new-courses/38-hands-on-generative-ai-batch-2', 'language': 'No language found.', 'description': ''}]}\n"
          ]
        }
      ]
    },
    {
      "cell_type": "code",
      "source": [
        "print(\"\\n collection 1 -\",vectorstore._collection.get(ids=['1f4d29c0-fc93-4842-a2e5-b7ad65ffe1f8'],include=[\"embeddings\",\"documents\"]))"
      ],
      "metadata": {
        "colab": {
          "base_uri": "https://localhost:8080/"
        },
        "id": "HY059q78Qf07",
        "outputId": "67aecb02-e612-4b96-a178-2cf18cf4e18a"
      },
      "execution_count": 163,
      "outputs": [
        {
          "output_type": "stream",
          "name": "stdout",
          "text": [
            "\n",
            " collection 1 - {'ids': ['1f4d29c0-fc93-4842-a2e5-b7ad65ffe1f8'], 'embeddings': array([[-1.03922300e-01, -8.32902566e-02,  5.32831252e-02,\n",
            "        -3.63315567e-02, -2.77245920e-02,  4.50616926e-02,\n",
            "        -3.85014117e-02, -5.33131696e-02, -1.40042633e-01,\n",
            "        -4.94411029e-02,  6.18501380e-03, -9.27575007e-02,\n",
            "        -6.57762028e-03,  1.63345097e-03, -6.73275068e-02,\n",
            "         8.94951075e-03,  2.72423923e-02,  6.16832003e-02,\n",
            "        -4.51546758e-02, -2.43384652e-02, -4.11205052e-04,\n",
            "         6.84512109e-02,  2.29621269e-02, -9.87705309e-03,\n",
            "         6.11910075e-02,  2.21827142e-02,  4.90635037e-02,\n",
            "        -8.36987421e-02,  5.29020801e-02, -4.29274328e-02,\n",
            "        -3.82323959e-03,  3.41809615e-02,  1.47645706e-02,\n",
            "         2.95340065e-02, -1.87886748e-02,  8.24888349e-02,\n",
            "        -9.85032469e-02,  8.99404753e-03,  3.64956893e-02,\n",
            "        -7.71645166e-04, -5.17451316e-02,  1.55628677e-02,\n",
            "        -4.96371370e-03, -4.85840142e-02,  5.76254725e-02,\n",
            "         1.65230911e-02, -1.23434169e-02, -7.90854320e-02,\n",
            "         7.11719245e-02,  7.39144385e-02, -6.61506653e-02,\n",
            "        -4.71872538e-02,  1.81374270e-02, -1.65709872e-02,\n",
            "        -4.73984480e-02,  7.67169194e-03,  2.48649139e-02,\n",
            "         5.28352754e-03, -8.47536232e-03, -2.63969507e-02,\n",
            "        -4.63929437e-02, -7.13077039e-02, -4.69842255e-02,\n",
            "        -6.70381412e-02, -1.30723082e-02, -8.71609449e-02,\n",
            "         1.07909413e-02,  1.05470248e-01,  7.07797334e-02,\n",
            "        -1.74076986e-02,  9.40415822e-03,  7.21501932e-02,\n",
            "        -5.37009016e-02,  5.09213209e-02,  3.57715040e-02,\n",
            "         5.15079983e-02,  3.59636880e-02, -6.60409406e-02,\n",
            "         6.12855926e-02, -6.90030828e-02, -1.26500195e-02,\n",
            "         5.51853143e-03,  4.46872264e-02,  3.25596817e-02,\n",
            "         4.63268086e-02, -1.61773320e-02, -1.45078602e-03,\n",
            "         8.97722468e-02,  4.57653552e-02, -4.09276932e-02,\n",
            "        -3.32974009e-02, -3.52800969e-04,  2.02787723e-02,\n",
            "         7.53451977e-03,  4.25452329e-02,  2.69857775e-02,\n",
            "        -1.95113923e-02, -1.55316954e-02, -4.55854237e-02,\n",
            "         4.33371328e-02, -8.44299421e-03,  2.59191990e-02,\n",
            "        -7.66410073e-03, -4.49716225e-02, -4.08997381e-04,\n",
            "        -2.06569731e-02,  6.59039244e-02,  8.87470879e-03,\n",
            "         4.25053015e-02, -7.35650137e-02,  4.18065079e-02,\n",
            "         4.31269482e-02, -1.05373031e-02, -8.48692879e-02,\n",
            "         4.74589840e-02, -1.91580760e-03,  1.99455172e-02,\n",
            "         1.20577952e-02,  1.04566067e-02,  1.05366975e-01,\n",
            "        -4.73716445e-02,  5.14940210e-02, -4.00521457e-02,\n",
            "         1.36176897e-02,  1.25843501e-02, -9.09104496e-02,\n",
            "        -1.68377329e-02,  1.17253629e-32,  9.79465619e-03,\n",
            "         3.02038644e-03,  2.59368122e-02,  3.96514311e-02,\n",
            "         1.00386418e-01,  2.55111721e-03, -1.15615968e-02,\n",
            "        -1.90512743e-03, -1.38879754e-02, -6.55352175e-02,\n",
            "        -8.56346488e-02, -1.54645462e-02, -1.00603499e-01,\n",
            "         9.43458900e-02,  6.91041648e-02, -1.04691103e-01,\n",
            "        -5.45088723e-02, -3.58803086e-02,  4.92938273e-02,\n",
            "        -4.27883305e-03, -1.57763641e-02, -3.88594866e-02,\n",
            "        -1.86560433e-02,  8.03490728e-03, -3.82407848e-03,\n",
            "         2.13051848e-02,  1.60446972e-01, -1.97150875e-02,\n",
            "        -4.59785806e-03, -5.43605816e-03, -7.55210817e-02,\n",
            "        -1.18528549e-02, -5.74323572e-02, -3.37411910e-02,\n",
            "        -1.37211159e-02,  1.98591724e-02,  2.51676142e-02,\n",
            "        -4.99601476e-03, -3.20370756e-02, -2.95318980e-02,\n",
            "         1.13984877e-02,  1.85910668e-02, -3.85542586e-02,\n",
            "        -4.69537526e-02, -9.89548489e-02, -5.14558889e-02,\n",
            "         6.56264722e-02,  8.00453424e-02,  1.29016161e-01,\n",
            "        -9.17921960e-02, -5.41298054e-02, -3.80847007e-02,\n",
            "        -3.10935397e-02, -7.23369420e-02, -9.31209512e-03,\n",
            "         6.07833378e-02,  3.81197259e-02,  3.38976532e-02,\n",
            "         4.17125076e-02,  1.16070947e-02,  2.90855449e-02,\n",
            "         1.84347909e-02,  8.48640874e-02,  2.56000757e-02,\n",
            "        -4.45578918e-02, -7.90531468e-03, -3.23224664e-02,\n",
            "        -2.11760867e-02,  1.05800495e-01,  1.24232227e-03,\n",
            "        -2.67501995e-02,  8.97426531e-03, -8.47607758e-03,\n",
            "        -5.68869486e-02,  7.27778748e-02,  9.45307165e-02,\n",
            "         5.50097972e-03, -6.93543181e-02,  3.53601249e-03,\n",
            "         8.00023302e-02, -4.27482761e-02,  4.29196954e-02,\n",
            "        -2.54653301e-02, -1.91010628e-02,  4.63587604e-03,\n",
            "        -7.70449452e-03, -3.77983483e-03, -1.61677357e-02,\n",
            "        -9.92020592e-03, -2.84275343e-03, -5.78889363e-02,\n",
            "        -1.21876970e-02,  1.97029300e-02,  3.43547650e-02,\n",
            "        -3.95148806e-02, -1.23394360e-32, -4.00761887e-02,\n",
            "         1.13089167e-01, -5.20313270e-02,  5.19463308e-02,\n",
            "         5.67948446e-02,  1.03284763e-02, -2.08253339e-02,\n",
            "         6.83088452e-02, -6.40106201e-03, -2.34003402e-02,\n",
            "        -2.17987876e-02,  3.99030261e-02, -3.24306684e-03,\n",
            "        -5.61908223e-02, -2.38625649e-02,  2.55160574e-02,\n",
            "        -4.19418328e-02,  3.02515160e-02, -5.62545378e-03,\n",
            "         3.23786512e-02,  6.67972676e-03,  8.74660984e-02,\n",
            "        -1.39122605e-01, -1.92284193e-02, -5.61494567e-02,\n",
            "        -7.39995902e-03, -1.67933665e-02,  1.05000190e-01,\n",
            "         1.42673301e-02,  6.19222224e-03,  5.30892750e-03,\n",
            "        -1.13236003e-01, -3.55354548e-02,  2.34210137e-02,\n",
            "        -5.57043105e-02,  8.53782818e-02,  6.11527711e-02,\n",
            "        -3.00214835e-03, -5.04700094e-02,  1.26649678e-01,\n",
            "         8.08959380e-02, -2.25540474e-02, -3.35434946e-04,\n",
            "        -1.95729267e-02, -2.80478187e-02, -4.79158685e-02,\n",
            "        -5.15525453e-02,  3.28657515e-02,  2.59123649e-02,\n",
            "         1.15488051e-02,  2.29214798e-04, -1.03231578e-03,\n",
            "        -5.46699390e-02, -2.26204582e-02, -1.77981853e-02,\n",
            "        -8.77982676e-02,  6.42335638e-02, -7.41844475e-02,\n",
            "         7.94935003e-02,  5.74988090e-02, -1.11091174e-01,\n",
            "        -9.67414007e-02,  2.22713817e-02, -2.45786365e-02,\n",
            "        -8.35661218e-02, -5.91420010e-02, -4.88318056e-02,\n",
            "         3.53761986e-02, -8.46740883e-03,  1.58995707e-02,\n",
            "        -8.04803241e-03,  3.51064503e-02,  7.58885816e-02,\n",
            "         2.87275314e-02, -3.41044739e-02, -2.58128755e-02,\n",
            "         2.28673499e-02,  4.95310873e-02,  4.16375138e-02,\n",
            "        -1.08392231e-01,  4.89352224e-03, -6.41437322e-02,\n",
            "        -5.24702817e-02,  6.00983202e-02,  7.00938255e-02,\n",
            "         5.41446656e-02,  7.79396221e-02,  5.20770438e-03,\n",
            "         9.36328247e-02,  7.05040768e-02, -3.01440544e-02,\n",
            "         9.00528282e-02,  9.28789154e-02, -2.57417490e-03,\n",
            "        -5.27428389e-02, -5.31303286e-08,  3.49696982e-03,\n",
            "        -3.00247446e-02,  5.36716767e-02,  1.78018995e-02,\n",
            "         6.06390685e-02, -2.71004606e-02, -3.49212475e-02,\n",
            "         1.85804069e-02,  1.50103411e-02, -4.79699671e-02,\n",
            "         7.11802319e-02, -3.76221016e-02, -4.05927151e-02,\n",
            "        -4.72566225e-02,  3.54449898e-02,  5.26778288e-02,\n",
            "         1.63117498e-02,  5.89622073e-02,  2.77073011e-02,\n",
            "        -6.90169558e-02,  7.42081925e-02, -4.74620722e-02,\n",
            "        -1.41256815e-02,  2.52024252e-02,  1.65271796e-02,\n",
            "        -4.19599488e-02, -7.17042712e-03,  3.40517350e-02,\n",
            "        -4.71470952e-02,  3.09021468e-03, -1.73349921e-02,\n",
            "         8.26348290e-02,  3.53125520e-02, -1.09340146e-01,\n",
            "        -3.71242035e-03,  8.86624083e-02, -3.69107642e-04,\n",
            "        -6.11001551e-02, -3.11898943e-02, -2.81465724e-02,\n",
            "        -5.16143627e-02, -8.73491913e-03, -3.06598004e-02,\n",
            "        -2.58649662e-02,  3.82590666e-02,  1.58094186e-02,\n",
            "        -6.50152389e-04, -1.40575707e-01,  5.09080626e-02,\n",
            "         2.89582647e-03, -3.65532115e-02, -9.37220920e-03,\n",
            "         4.82316799e-02,  3.56139727e-02,  8.32903013e-02,\n",
            "         4.03750129e-02,  2.04744767e-02, -7.68803954e-02,\n",
            "         5.95367998e-02,  5.08769182e-03,  9.12568625e-03,\n",
            "         5.07208072e-02, -1.38271779e-01, -8.57138447e-03]]), 'documents': ['Keerti PurswaniSignupLoginMAIN MENU Courses Free ContentSignupLoginHands-On Generative AI - Batch 2OverviewContentDescription7 Weeks Hands-on Generative AI Course\\nStarts on 16th September. Classes every Tue, Wed, Thurs\\n\\nRecordings available for lifetime\\nGet Access to all Upcoming Live Batches of the course\\n\\n\\xa0\\nWeek-wise Curriculum\\nWeek 1: Foundations of Generative AI\\n\\n\\nIntroduction to AI\\n\\n\\nMathematical Foundations for AI\\n\\n\\nProbability, Statistics, and Linear Algebra\\n\\n\\nBasics of Neural Networks\\n\\n\\nGradient Descent and Optimization Basics\\n\\n\\nArchitectures: Feedforward, RNN, and CNN\\n\\n\\nMini Project: Build a Simple Neural Network Using TensorFlow\\n\\n\\nMini Project: Train an Autoencoder on the MNIST Dataset\\n\\n\\nWeek 2: Deep Generative Models\\n\\n\\nDiscriminative and Generative Models\\n\\n\\nGenerative Adversarial Networks (GANs)\\n\\n\\nVariational Autoencoders (VAEs)\\n\\n\\nProbabilistic Data Generation Using VAEs\\n\\n\\nFour Mini Projects using TensorFlow\\n\\n\\nMetrics Visualization using TensorBoard'], 'uris': None, 'included': ['embeddings', 'documents'], 'data': None, 'metadatas': None}\n"
          ]
        }
      ]
    },
    {
      "cell_type": "code",
      "source": [
        "retriver=vectorstore.as_retriever()"
      ],
      "metadata": {
        "id": "viIwYqdYRVrM"
      },
      "execution_count": 164,
      "outputs": []
    },
    {
      "cell_type": "code",
      "source": [
        "pip install transformers torch accelerate bitsandbytes"
      ],
      "metadata": {
        "colab": {
          "base_uri": "https://localhost:8080/"
        },
        "id": "Vccv1ASy3z1w",
        "outputId": "699d40f3-51f3-49a6-8ecd-050ebf7ddf8e"
      },
      "execution_count": 165,
      "outputs": [
        {
          "output_type": "stream",
          "name": "stdout",
          "text": [
            "Requirement already satisfied: transformers in /usr/local/lib/python3.12/dist-packages (4.56.0)\n",
            "Requirement already satisfied: torch in /usr/local/lib/python3.12/dist-packages (2.8.0+cu126)\n",
            "Requirement already satisfied: accelerate in /usr/local/lib/python3.12/dist-packages (1.10.1)\n",
            "Requirement already satisfied: bitsandbytes in /usr/local/lib/python3.12/dist-packages (0.47.0)\n",
            "Requirement already satisfied: filelock in /usr/local/lib/python3.12/dist-packages (from transformers) (3.19.1)\n",
            "Requirement already satisfied: huggingface-hub<1.0,>=0.34.0 in /usr/local/lib/python3.12/dist-packages (from transformers) (0.34.4)\n",
            "Requirement already satisfied: numpy>=1.17 in /usr/local/lib/python3.12/dist-packages (from transformers) (2.0.2)\n",
            "Requirement already satisfied: packaging>=20.0 in /usr/local/lib/python3.12/dist-packages (from transformers) (24.2)\n",
            "Requirement already satisfied: pyyaml>=5.1 in /usr/local/lib/python3.12/dist-packages (from transformers) (6.0.2)\n",
            "Requirement already satisfied: regex!=2019.12.17 in /usr/local/lib/python3.12/dist-packages (from transformers) (2024.11.6)\n",
            "Requirement already satisfied: requests in /usr/local/lib/python3.12/dist-packages (from transformers) (2.32.5)\n",
            "Requirement already satisfied: tokenizers<=0.23.0,>=0.22.0 in /usr/local/lib/python3.12/dist-packages (from transformers) (0.22.0)\n",
            "Requirement already satisfied: safetensors>=0.4.3 in /usr/local/lib/python3.12/dist-packages (from transformers) (0.6.2)\n",
            "Requirement already satisfied: tqdm>=4.27 in /usr/local/lib/python3.12/dist-packages (from transformers) (4.67.1)\n",
            "Requirement already satisfied: typing-extensions>=4.10.0 in /usr/local/lib/python3.12/dist-packages (from torch) (4.15.0)\n",
            "Requirement already satisfied: setuptools in /usr/local/lib/python3.12/dist-packages (from torch) (75.2.0)\n",
            "Requirement already satisfied: sympy>=1.13.3 in /usr/local/lib/python3.12/dist-packages (from torch) (1.13.3)\n",
            "Requirement already satisfied: networkx in /usr/local/lib/python3.12/dist-packages (from torch) (3.5)\n",
            "Requirement already satisfied: jinja2 in /usr/local/lib/python3.12/dist-packages (from torch) (3.1.6)\n",
            "Requirement already satisfied: fsspec in /usr/local/lib/python3.12/dist-packages (from torch) (2025.3.0)\n",
            "Requirement already satisfied: nvidia-cuda-nvrtc-cu12==12.6.77 in /usr/local/lib/python3.12/dist-packages (from torch) (12.6.77)\n",
            "Requirement already satisfied: nvidia-cuda-runtime-cu12==12.6.77 in /usr/local/lib/python3.12/dist-packages (from torch) (12.6.77)\n",
            "Requirement already satisfied: nvidia-cuda-cupti-cu12==12.6.80 in /usr/local/lib/python3.12/dist-packages (from torch) (12.6.80)\n",
            "Requirement already satisfied: nvidia-cudnn-cu12==9.10.2.21 in /usr/local/lib/python3.12/dist-packages (from torch) (9.10.2.21)\n",
            "Requirement already satisfied: nvidia-cublas-cu12==12.6.4.1 in /usr/local/lib/python3.12/dist-packages (from torch) (12.6.4.1)\n",
            "Requirement already satisfied: nvidia-cufft-cu12==11.3.0.4 in /usr/local/lib/python3.12/dist-packages (from torch) (11.3.0.4)\n",
            "Requirement already satisfied: nvidia-curand-cu12==10.3.7.77 in /usr/local/lib/python3.12/dist-packages (from torch) (10.3.7.77)\n",
            "Requirement already satisfied: nvidia-cusolver-cu12==11.7.1.2 in /usr/local/lib/python3.12/dist-packages (from torch) (11.7.1.2)\n",
            "Requirement already satisfied: nvidia-cusparse-cu12==12.5.4.2 in /usr/local/lib/python3.12/dist-packages (from torch) (12.5.4.2)\n",
            "Requirement already satisfied: nvidia-cusparselt-cu12==0.7.1 in /usr/local/lib/python3.12/dist-packages (from torch) (0.7.1)\n",
            "Requirement already satisfied: nvidia-nccl-cu12==2.27.3 in /usr/local/lib/python3.12/dist-packages (from torch) (2.27.3)\n",
            "Requirement already satisfied: nvidia-nvtx-cu12==12.6.77 in /usr/local/lib/python3.12/dist-packages (from torch) (12.6.77)\n",
            "Requirement already satisfied: nvidia-nvjitlink-cu12==12.6.85 in /usr/local/lib/python3.12/dist-packages (from torch) (12.6.85)\n",
            "Requirement already satisfied: nvidia-cufile-cu12==1.11.1.6 in /usr/local/lib/python3.12/dist-packages (from torch) (1.11.1.6)\n",
            "Requirement already satisfied: triton==3.4.0 in /usr/local/lib/python3.12/dist-packages (from torch) (3.4.0)\n",
            "Requirement already satisfied: psutil in /usr/local/lib/python3.12/dist-packages (from accelerate) (5.9.5)\n",
            "Requirement already satisfied: hf-xet<2.0.0,>=1.1.3 in /usr/local/lib/python3.12/dist-packages (from huggingface-hub<1.0,>=0.34.0->transformers) (1.1.9)\n",
            "Requirement already satisfied: mpmath<1.4,>=1.1.0 in /usr/local/lib/python3.12/dist-packages (from sympy>=1.13.3->torch) (1.3.0)\n",
            "Requirement already satisfied: MarkupSafe>=2.0 in /usr/local/lib/python3.12/dist-packages (from jinja2->torch) (3.0.2)\n",
            "Requirement already satisfied: charset_normalizer<4,>=2 in /usr/local/lib/python3.12/dist-packages (from requests->transformers) (3.4.3)\n",
            "Requirement already satisfied: idna<4,>=2.5 in /usr/local/lib/python3.12/dist-packages (from requests->transformers) (3.10)\n",
            "Requirement already satisfied: urllib3<3,>=1.21.1 in /usr/local/lib/python3.12/dist-packages (from requests->transformers) (2.5.0)\n",
            "Requirement already satisfied: certifi>=2017.4.17 in /usr/local/lib/python3.12/dist-packages (from requests->transformers) (2025.8.3)\n"
          ]
        }
      ]
    },
    {
      "cell_type": "code",
      "source": [
        "'''from google.colab import userdata\n",
        "my_secreat_key=userdata.get(\"llama_token\")'''"
      ],
      "metadata": {
        "id": "YFh3GJV83zke"
      },
      "execution_count": 126,
      "outputs": []
    },
    {
      "cell_type": "code",
      "source": [
        "#import torch\n",
        "#from transformers import AutoTokenizer, AutoModelForCausalLM,BitsAndBytesConfig,pipeline'''"
      ],
      "metadata": {
        "id": "jL_chuDy46dE"
      },
      "execution_count": 128,
      "outputs": []
    },
    {
      "cell_type": "code",
      "source": [
        "\"\"\"model_id=\"meta-llama/Llama-2-7b-chat-hf\"\n",
        "\n",
        "bnb_config=BitsAndBytesConfig(\n",
        "    load_in_4bit=True,\n",
        "    bnb_4bit_use_double_quant=True,\n",
        "    bnb_4bit_quant_type=\"nf4\",\n",
        "    bnb_4bit_compute_dtype=torch.bfloat16\n",
        "    )\n",
        "tokenizer=AutoTokenizer.from_pretrained(model_id)\n",
        "tokenizer.pad_token=tokenizer.eos_token\n",
        "model=AutoModelForCausalLM.from_pretrained(model_id,device_map=\"auto\",quantization_config=bnb_config)\"\"\""
      ],
      "metadata": {
        "colab": {
          "base_uri": "https://localhost:8080/",
          "height": 70
        },
        "id": "ke0LZ2w65N5A",
        "outputId": "033683f4-4c2d-43a3-8628-76d93ba89bf7"
      },
      "execution_count": 132,
      "outputs": [
        {
          "output_type": "execute_result",
          "data": {
            "text/plain": [
              "'model_id=\"meta-llama/Llama-2-7b-chat-hf\"\\n\\nbnb_config=BitsAndBytesConfig(\\n    load_in_4bit=True,\\n    bnb_4bit_use_double_quant=True,\\n    bnb_4bit_quant_type=\"nf4\",\\n    bnb_4bit_compute_dtype=torch.bfloat16\\n    )\\ntokenizer=AutoTokenizer.from_pretrained(model_id)\\ntokenizer.pad_token=tokenizer.eos_token\\nmodel=AutoModelForCausalLM.from_pretrained(model_id,device_map=\"auto\",quantization_config=bnb_config)'"
            ],
            "application/vnd.google.colaboratory.intrinsic+json": {
              "type": "string"
            }
          },
          "metadata": {},
          "execution_count": 132
        }
      ]
    },
    {
      "cell_type": "code",
      "source": [
        "from transformers import AutoTokenizer, AutoModelForCausalLM\n",
        "\n",
        "model_name = \"tiiuae/falcon-rw-1b\"  # ✅ correct repo_id\n",
        "\n",
        "tokenizer = AutoTokenizer.from_pretrained(model_name)\n",
        "\n",
        "if tokenizer.pad_token is None:\n",
        "    tokenizer.pad_token = tokenizer.eos_token\n",
        "\n",
        "\n",
        "model = AutoModelForCausalLM.from_pretrained(\n",
        "    model_name,\n",
        "    device_map=\"auto\",\n",
        "    torch_dtype=\"auto\"\n",
        ")\n",
        "\n",
        "model.config.pad_token_id = tokenizer.pad_token_id\n",
        "\n",
        "\n",
        "# Pipeline\n",
        "pipe = pipeline(\n",
        "    \"text-generation\",\n",
        "    model=model,\n",
        "    tokenizer=tokenizer,\n",
        "    max_new_tokens=200,\n",
        "    temperature=0.3,\n",
        "    top_p=0.9\n",
        ")\n",
        "\n",
        "# Wrap in LangChain\n",
        "llm = HuggingFacePipeline(pipeline=pipe)\n"
      ],
      "metadata": {
        "colab": {
          "base_uri": "https://localhost:8080/"
        },
        "id": "TdGDylQu5Nrq",
        "outputId": "db99f8c9-93a2-4673-b26d-7cd2c0e41607"
      },
      "execution_count": 167,
      "outputs": [
        {
          "output_type": "stream",
          "name": "stderr",
          "text": [
            "Device set to use cpu\n"
          ]
        }
      ]
    },
    {
      "cell_type": "code",
      "source": [
        "from langchain import hub\n",
        "prompt=hub.pull(\"rlm/rag-prompt\")"
      ],
      "metadata": {
        "id": "c23Q9Vg8SK9Z"
      },
      "execution_count": 166,
      "outputs": []
    },
    {
      "cell_type": "code",
      "source": [
        "#from langchain_openai import ChatOpenAI\n",
        "#llm=ChatOpenAI()"
      ],
      "metadata": {
        "id": "n-p3jplgS-7a"
      },
      "execution_count": 143,
      "outputs": []
    },
    {
      "cell_type": "code",
      "source": [
        "def format_doc(docs):\n",
        "    return \"\\n\".join([doc.page_content for doc in docs])\n"
      ],
      "metadata": {
        "id": "D2Qq2mouTeZt"
      },
      "execution_count": 178,
      "outputs": []
    },
    {
      "cell_type": "code",
      "source": [
        "from langchain_core.runnables import RunnablePassthrough\n",
        "from langchain_core.output_parsers import StrOutputParser\n",
        "\n",
        "rag_chain = (\n",
        "    {\n",
        "        \"context\": retriver | format_doc,  # retriever expects a string\n",
        "        \"question\": RunnablePassthrough()   # user query\n",
        "    }\n",
        "    | prompt\n",
        "    | llm\n",
        "    | StrOutputParser()\n",
        ")\n"
      ],
      "metadata": {
        "id": "S4O5zTXja9xt"
      },
      "execution_count": 180,
      "outputs": []
    },
    {
      "cell_type": "code",
      "source": [
        "query = \"class recordings available?\"\n",
        "answer = rag_chain.invoke(query)  # just the string\n",
        "print(\"Answer:\", answer)\n"
      ],
      "metadata": {
        "colab": {
          "base_uri": "https://localhost:8080/"
        },
        "id": "cSZLc8k9cHcp",
        "outputId": "0e849203-e10b-43a1-f25b-45ded5da5e62"
      },
      "execution_count": 182,
      "outputs": [
        {
          "output_type": "stream",
          "name": "stdout",
          "text": [
            "Answer: Human: You are an assistant for question-answering tasks. Use the following pieces of retrieved context to answer the question. If you don't know the answer, just say that you don't know. Use three sentences maximum and keep the answer concise.\n",
            "Question: class recordings available? \n",
            "Context: FAQs\n",
            "Will there be recordings of the classes?\r\n",
            "You will have lifetime access to all the class recordings. You can re-watch, revise, or attend the next batch's live classes (as and when they happen) with lifetime validity.\n",
            "What are the prerequisites for the course?\r\n",
            "Basics of Python, NumPy, and Pandas. Videos are provided for these topics. So, the only prerequisites are an internet connection and a hunger for learning.\n",
            "Is Machine Learning a prerequisite for the course?\r\n",
            "All the basic fundamentals required for Generative AI will be taught in the course. You do not need to have any prior knowledge of Machine Learning or AI.\n",
            "How many projects will we work on? Can I add these to my resume?\r\n",
            "We will work on 10 projects that you can add to your resume.\n",
            "Is this course for freshers or experienced people?\r\n",
            "This course is for anyone who wants to build projects and understand Generative AI. Years of experience do not matter.\n",
            "How will you be able to cover so much in 7 weeks?\n",
            "FAQs\n",
            "Will there be recordings of the classes?\r\n",
            "You will have lifetime access to all the class recordings. You can re-watch, revise, or attend the next batch's live classes (as and when they happen) with lifetime validity.\n",
            "What are the prerequisites for the course?\r\n",
            "Basics of Python, NumPy, and Pandas. Videos are provided for these topics. So, the only prerequisites are an internet connection and a hunger for learning.\n",
            "Is Machine Learning a prerequisite for the course?\r\n",
            "All the basic fundamentals required for Generative AI will be taught in the course. You do not need to have any prior knowledge of Machine Learning or AI.\n",
            "How many projects will we work on? Can I add these to my resume?\r\n",
            "We will work on 10 projects that you can add to your resume.\n",
            "Is this course for freshers or experienced people?\r\n",
            "This course is for anyone who wants to build projects and understand Generative AI. Years of experience do not matter.\n",
            "How will you be able to cover so much in 7 weeks?\n",
            "FAQs\n",
            "Will there be recordings of the classes?\r\n",
            "You will have lifetime access to all the class recordings. You can re-watch, revise, or attend the next batch's live classes (as and when they happen) with lifetime validity.\n",
            "What are the prerequisites for the course?\r\n",
            "Basics of Python, NumPy, and Pandas. Videos are provided for these topics. So, the only prerequisites are an internet connection and a hunger for learning.\n",
            "Is Machine Learning a prerequisite for the course?\r\n",
            "All the basic fundamentals required for Generative AI will be taught in the course. You do not need to have any prior knowledge of Machine Learning or AI.\n",
            "How many projects will we work on? Can I add these to my resume?\r\n",
            "We will work on 10 projects that you can add to your resume.\n",
            "Is this course for freshers or experienced people?\r\n",
            "This course is for anyone who wants to build projects and understand Generative AI. Years of experience do not matter.\n",
            "How will you be able to cover so much in 7 weeks?\n",
            "FAQs\n",
            "Will there be recordings of the classes?\r\n",
            "You will have lifetime access to all the class recordings. You can re-watch, revise, or attend the next batch's live classes (as and when they happen) with lifetime validity.\n",
            "What are the prerequisites for the course?\r\n",
            "Basics of Python, NumPy, and Pandas. Videos are provided for these topics. So, the only prerequisites are an internet connection and a hunger for learning.\n",
            "Is Machine Learning a prerequisite for the course?\r\n",
            "All the basic fundamentals required for Generative AI will be taught in the course. You do not need to have any prior knowledge of Machine Learning or AI.\n",
            "How many projects will we work on? Can I add these to my resume?\r\n",
            "We will work on 10 projects that you can add to your resume.\n",
            "Is this course for freshers or experienced people?\r\n",
            "This course is for anyone who wants to build projects and understand Generative AI. Years of experience do not matter.\n",
            "How will you be able to cover so much in 7 weeks? \n",
            "Answer:\n",
            "The course is for beginners and experienced people alike. You don't need to have any prior knowledge of Machine Learning or AI.\n",
            "FAQs\n",
            "Will there be recordings of the classes?\n",
            "You will have lifetime access to all the class recordings. You can re-watch, revise, or attend the next batch's live classes (as and when they happen) with lifetime validity.\n",
            "What are the prerequisites for the course?\n",
            "Basics of Python, NumPy, and Pandas. Videos are provided for these topics. So, the only prerequisites are an internet connection and a hunger for learning.\n",
            "Is Machine Learning a prerequisite for the course?\n",
            "All the basic fundamentals required for Generative AI will be taught in the course. You do not need to have any prior knowledge of Machine Learning or AI.\n",
            "How many projects will we work on? Can I add these to my resume?\n",
            "FAQs\n",
            "Will there be recordings of the classes?\n",
            "You will have lifetime access\n"
          ]
        }
      ]
    },
    {
      "cell_type": "code",
      "source": [
        "docs = retriver.get_relevant_documents(\"recordings avaialble?\")\n",
        "print(\"Retrieved docs:\", docs)\n"
      ],
      "metadata": {
        "id": "R2bNubCkcXcF",
        "colab": {
          "base_uri": "https://localhost:8080/"
        },
        "outputId": "26c7815f-b74b-4dcb-a365-19ee69c00786"
      },
      "execution_count": 174,
      "outputs": [
        {
          "output_type": "stream",
          "name": "stdout",
          "text": [
            "Retrieved docs: [Document(metadata={'source': 'https://register.educosys.com/new-courses/38-hands-on-generative-ai-batch-2', 'title': 'Keerti Purswani', 'language': 'No language found.', 'description': ''}, page_content=\"FAQs\\nWill there be recordings of the classes?\\r\\nYou will have lifetime access to all the class recordings. You can re-watch, revise, or attend the next batch's live classes (as and when they happen) with lifetime validity.\\nWhat are the prerequisites for the course?\\r\\nBasics of Python, NumPy, and Pandas. Videos are provided for these topics. So, the only prerequisites are an internet connection and a hunger for learning.\\nIs Machine Learning a prerequisite for the course?\\r\\nAll the basic fundamentals required for Generative AI will be taught in the course. You do not need to have any prior knowledge of Machine Learning or AI.\\nHow many projects will we work on? Can I add these to my resume?\\r\\nWe will work on 10 projects that you can add to your resume.\\nIs this course for freshers or experienced people?\\r\\nThis course is for anyone who wants to build projects and understand Generative AI. Years of experience do not matter.\\nHow will you be able to cover so much in 7 weeks?\"), Document(metadata={'description': '', 'title': 'Keerti Purswani', 'language': 'No language found.', 'source': 'https://register.educosys.com/new-courses/38-hands-on-generative-ai-batch-2'}, page_content=\"FAQs\\nWill there be recordings of the classes?\\r\\nYou will have lifetime access to all the class recordings. You can re-watch, revise, or attend the next batch's live classes (as and when they happen) with lifetime validity.\\nWhat are the prerequisites for the course?\\r\\nBasics of Python, NumPy, and Pandas. Videos are provided for these topics. So, the only prerequisites are an internet connection and a hunger for learning.\\nIs Machine Learning a prerequisite for the course?\\r\\nAll the basic fundamentals required for Generative AI will be taught in the course. You do not need to have any prior knowledge of Machine Learning or AI.\\nHow many projects will we work on? Can I add these to my resume?\\r\\nWe will work on 10 projects that you can add to your resume.\\nIs this course for freshers or experienced people?\\r\\nThis course is for anyone who wants to build projects and understand Generative AI. Years of experience do not matter.\\nHow will you be able to cover so much in 7 weeks?\"), Document(metadata={'title': 'Keerti Purswani', 'description': '', 'source': 'https://register.educosys.com/new-courses/38-hands-on-generative-ai-batch-2', 'language': 'No language found.'}, page_content=\"FAQs\\nWill there be recordings of the classes?\\r\\nYou will have lifetime access to all the class recordings. You can re-watch, revise, or attend the next batch's live classes (as and when they happen) with lifetime validity.\\nWhat are the prerequisites for the course?\\r\\nBasics of Python, NumPy, and Pandas. Videos are provided for these topics. So, the only prerequisites are an internet connection and a hunger for learning.\\nIs Machine Learning a prerequisite for the course?\\r\\nAll the basic fundamentals required for Generative AI will be taught in the course. You do not need to have any prior knowledge of Machine Learning or AI.\\nHow many projects will we work on? Can I add these to my resume?\\r\\nWe will work on 10 projects that you can add to your resume.\\nIs this course for freshers or experienced people?\\r\\nThis course is for anyone who wants to build projects and understand Generative AI. Years of experience do not matter.\\nHow will you be able to cover so much in 7 weeks?\"), Document(metadata={'description': '', 'title': 'Keerti Purswani', 'source': 'https://register.educosys.com/new-courses/38-hands-on-generative-ai-batch-2', 'language': 'No language found.'}, page_content=\"FAQs\\nWill there be recordings of the classes?\\r\\nYou will have lifetime access to all the class recordings. You can re-watch, revise, or attend the next batch's live classes (as and when they happen) with lifetime validity.\\nWhat are the prerequisites for the course?\\r\\nBasics of Python, NumPy, and Pandas. Videos are provided for these topics. So, the only prerequisites are an internet connection and a hunger for learning.\\nIs Machine Learning a prerequisite for the course?\\r\\nAll the basic fundamentals required for Generative AI will be taught in the course. You do not need to have any prior knowledge of Machine Learning or AI.\\nHow many projects will we work on? Can I add these to my resume?\\r\\nWe will work on 10 projects that you can add to your resume.\\nIs this course for freshers or experienced people?\\r\\nThis course is for anyone who wants to build projects and understand Generative AI. Years of experience do not matter.\\nHow will you be able to cover so much in 7 weeks?\")]\n"
          ]
        }
      ]
    },
    {
      "cell_type": "code",
      "source": [
        "test_query = \"Explain cloud computing in simple terms.\"\n",
        "print(llm.invoke(test_query))\n"
      ],
      "metadata": {
        "colab": {
          "base_uri": "https://localhost:8080/"
        },
        "id": "RyDVkQ2kHGIM",
        "outputId": "bea2cdd8-bad3-4c12-8402-547762b00595"
      },
      "execution_count": 175,
      "outputs": [
        {
          "output_type": "stream",
          "name": "stdout",
          "text": [
            "Explain cloud computing in simple terms.\n",
            "Cloud computing is a term used to describe a model of computing in which the provider of the service is not the user of the service. The provider of the service is the cloud service provider.\n",
            "The cloud service provider is a third party that provides the service to the user. The cloud service provider is responsible for the management of the service and the provision of the service to the user.\n",
            "The cloud service provider is responsible for the management of the service and the provision of the service to the user.\n",
            "The cloud service provider is responsible for the management of the service and the provision of the service to the user.\n",
            "Cloud computing is a model of computing in which the provider of the service is not the user of the service.\n",
            "Cloud computing is a model of computing in which the provider of the service is not the user of the service.\n",
            "Cloud computing is a model of computing in which the provider of the service is not the user of the service.\n",
            "Cloud computing is a model of\n"
          ]
        }
      ]
    },
    {
      "cell_type": "code",
      "source": [],
      "metadata": {
        "id": "N8lAr4OZHufS"
      },
      "execution_count": null,
      "outputs": []
    }
  ]
}